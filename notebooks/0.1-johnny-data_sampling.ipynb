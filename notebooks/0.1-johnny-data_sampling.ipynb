{
 "cells": [
  {
   "cell_type": "markdown",
   "metadata": {},
   "source": [
    "# Import libraries and data"
   ]
  },
  {
   "cell_type": "code",
   "execution_count": 3,
   "metadata": {},
   "outputs": [],
   "source": [
    "import pandas as pd\n",
    "from typing import List\n",
    "import seaborn as sns\n",
    "import matplotlib.pyplot as plt"
   ]
  },
  {
   "cell_type": "code",
   "execution_count": 4,
   "metadata": {},
   "outputs": [],
   "source": [
    "df = pd.read_csv('../data/raw/userid-timestamp-artid-artname-traid-traname.tsv', sep='\\t', on_bad_lines='skip',header=None)"
   ]
  },
  {
   "cell_type": "code",
   "execution_count": 5,
   "metadata": {},
   "outputs": [
    {
     "data": {
      "text/html": [
       "<div>\n",
       "<style scoped>\n",
       "    .dataframe tbody tr th:only-of-type {\n",
       "        vertical-align: middle;\n",
       "    }\n",
       "\n",
       "    .dataframe tbody tr th {\n",
       "        vertical-align: top;\n",
       "    }\n",
       "\n",
       "    .dataframe thead th {\n",
       "        text-align: right;\n",
       "    }\n",
       "</style>\n",
       "<table border=\"1\" class=\"dataframe\">\n",
       "  <thead>\n",
       "    <tr style=\"text-align: right;\">\n",
       "      <th></th>\n",
       "      <th>0</th>\n",
       "      <th>1</th>\n",
       "      <th>2</th>\n",
       "      <th>3</th>\n",
       "      <th>4</th>\n",
       "      <th>5</th>\n",
       "    </tr>\n",
       "  </thead>\n",
       "  <tbody>\n",
       "    <tr>\n",
       "      <th>0</th>\n",
       "      <td>user_000001</td>\n",
       "      <td>2009-05-04T23:08:57Z</td>\n",
       "      <td>f1b1cf71-bd35-4e99-8624-24a6e15f133a</td>\n",
       "      <td>Deep Dish</td>\n",
       "      <td>NaN</td>\n",
       "      <td>Fuck Me Im Famous (Pacha Ibiza)-09-28-2007</td>\n",
       "    </tr>\n",
       "    <tr>\n",
       "      <th>1</th>\n",
       "      <td>user_000001</td>\n",
       "      <td>2009-05-04T13:54:10Z</td>\n",
       "      <td>a7f7df4a-77d8-4f12-8acd-5c60c93f4de8</td>\n",
       "      <td>坂本龍一</td>\n",
       "      <td>NaN</td>\n",
       "      <td>Composition 0919 (Live_2009_4_15)</td>\n",
       "    </tr>\n",
       "    <tr>\n",
       "      <th>2</th>\n",
       "      <td>user_000001</td>\n",
       "      <td>2009-05-04T13:52:04Z</td>\n",
       "      <td>a7f7df4a-77d8-4f12-8acd-5c60c93f4de8</td>\n",
       "      <td>坂本龍一</td>\n",
       "      <td>NaN</td>\n",
       "      <td>Mc2 (Live_2009_4_15)</td>\n",
       "    </tr>\n",
       "    <tr>\n",
       "      <th>3</th>\n",
       "      <td>user_000001</td>\n",
       "      <td>2009-05-04T13:42:52Z</td>\n",
       "      <td>a7f7df4a-77d8-4f12-8acd-5c60c93f4de8</td>\n",
       "      <td>坂本龍一</td>\n",
       "      <td>NaN</td>\n",
       "      <td>Hibari (Live_2009_4_15)</td>\n",
       "    </tr>\n",
       "    <tr>\n",
       "      <th>4</th>\n",
       "      <td>user_000001</td>\n",
       "      <td>2009-05-04T13:42:11Z</td>\n",
       "      <td>a7f7df4a-77d8-4f12-8acd-5c60c93f4de8</td>\n",
       "      <td>坂本龍一</td>\n",
       "      <td>NaN</td>\n",
       "      <td>Mc1 (Live_2009_4_15)</td>\n",
       "    </tr>\n",
       "  </tbody>\n",
       "</table>\n",
       "</div>"
      ],
      "text/plain": [
       "             0                     1                                     2  \\\n",
       "0  user_000001  2009-05-04T23:08:57Z  f1b1cf71-bd35-4e99-8624-24a6e15f133a   \n",
       "1  user_000001  2009-05-04T13:54:10Z  a7f7df4a-77d8-4f12-8acd-5c60c93f4de8   \n",
       "2  user_000001  2009-05-04T13:52:04Z  a7f7df4a-77d8-4f12-8acd-5c60c93f4de8   \n",
       "3  user_000001  2009-05-04T13:42:52Z  a7f7df4a-77d8-4f12-8acd-5c60c93f4de8   \n",
       "4  user_000001  2009-05-04T13:42:11Z  a7f7df4a-77d8-4f12-8acd-5c60c93f4de8   \n",
       "\n",
       "           3    4                                           5  \n",
       "0  Deep Dish  NaN  Fuck Me Im Famous (Pacha Ibiza)-09-28-2007  \n",
       "1       坂本龍一  NaN           Composition 0919 (Live_2009_4_15)  \n",
       "2       坂本龍一  NaN                        Mc2 (Live_2009_4_15)  \n",
       "3       坂本龍一  NaN                     Hibari (Live_2009_4_15)  \n",
       "4       坂本龍一  NaN                        Mc1 (Live_2009_4_15)  "
      ]
     },
     "execution_count": 5,
     "metadata": {},
     "output_type": "execute_result"
    }
   ],
   "source": [
    "df.head()"
   ]
  },
  {
   "cell_type": "code",
   "execution_count": 6,
   "metadata": {},
   "outputs": [
    {
     "name": "stdout",
     "output_type": "stream",
     "text": [
      "<class 'pandas.core.frame.DataFrame'>\n",
      "RangeIndex: 19098853 entries, 0 to 19098852\n",
      "Data columns (total 6 columns):\n",
      " #   Column  Dtype \n",
      "---  ------  ----- \n",
      " 0   0       object\n",
      " 1   1       object\n",
      " 2   2       object\n",
      " 3   3       object\n",
      " 4   4       object\n",
      " 5   5       object\n",
      "dtypes: object(6)\n",
      "memory usage: 874.3+ MB\n"
     ]
    }
   ],
   "source": [
    "df.info()"
   ]
  },
  {
   "cell_type": "code",
   "execution_count": 7,
   "metadata": {},
   "outputs": [],
   "source": [
    "# rename the columns\n",
    "df.columns = ['userid', 'timestamp', 'musicbrainz_artist_id', 'artist_name', 'musicbrainz_track_id', 'track_name']"
   ]
  },
  {
   "cell_type": "markdown",
   "metadata": {},
   "source": [
    "# EDA"
   ]
  },
  {
   "cell_type": "code",
   "execution_count": 8,
   "metadata": {},
   "outputs": [],
   "source": [
    "def show_stats(df:pd.DataFrame):\n",
    "    \"\"\"\n",
    "    Show stats data\n",
    "    @param df: dataframe\n",
    "    \"\"\"\n",
    "    # how many unique users are there\n",
    "    print(\"Unique users number: %d\"%len(df.userid.unique()))\n",
    "    # how many unique artists are there\n",
    "    print(\"Unique artists number: %d\"%len(df.artist_name.unique()))\n",
    "    # how many unique songs are there\n",
    "    print(\"Unique track number: %d\"%len(df.track_name.unique()))\n",
    "    # how many unique songs with artist are there\n",
    "    if('artist_track' in df.columns):\n",
    "        print(\"Unique artists_track number: %d\"%len(df.artist_track.unique()))"
   ]
  },
  {
   "cell_type": "code",
   "execution_count": 9,
   "metadata": {},
   "outputs": [],
   "source": [
    "def check_missing_value(df:pd.DataFrame, cols:List[str]) -> pd.DataFrame:\n",
    "    \"\"\"\n",
    "    Count missing values in specified columns.\n",
    "    @param df: dataframe\n",
    "    @param cols: columns to be calculated\n",
    "    return: summary information\n",
    "    \"\"\"\n",
    "    res = pd.DataFrame(cols, columns=['Feature'])\n",
    "    na_cnts = [sum(df[col].isna()) for col in cols]\n",
    "    res['NA Count'] = na_cnts\n",
    "    res['NA Rate'] = res['NA Count'] / df.shape[0]\n",
    "    res = res[res['NA Count'] != 0]\n",
    "    res = res.sort_values(by='NA Count', ascending=False).reset_index(drop=True)\n",
    "    return res"
   ]
  },
  {
   "cell_type": "code",
   "execution_count": 10,
   "metadata": {},
   "outputs": [
    {
     "name": "stdout",
     "output_type": "stream",
     "text": [
      "Unique users number: 992\n",
      "Unique artists number: 173921\n",
      "Unique track number: 1083472\n"
     ]
    }
   ],
   "source": [
    "show_stats(df)"
   ]
  },
  {
   "cell_type": "code",
   "execution_count": 11,
   "metadata": {},
   "outputs": [
    {
     "data": {
      "text/html": [
       "<div>\n",
       "<style scoped>\n",
       "    .dataframe tbody tr th:only-of-type {\n",
       "        vertical-align: middle;\n",
       "    }\n",
       "\n",
       "    .dataframe tbody tr th {\n",
       "        vertical-align: top;\n",
       "    }\n",
       "\n",
       "    .dataframe thead th {\n",
       "        text-align: right;\n",
       "    }\n",
       "</style>\n",
       "<table border=\"1\" class=\"dataframe\">\n",
       "  <thead>\n",
       "    <tr style=\"text-align: right;\">\n",
       "      <th></th>\n",
       "      <th>Feature</th>\n",
       "      <th>NA Count</th>\n",
       "      <th>NA Rate</th>\n",
       "    </tr>\n",
       "  </thead>\n",
       "  <tbody>\n",
       "    <tr>\n",
       "      <th>0</th>\n",
       "      <td>musicbrainz_track_id</td>\n",
       "      <td>2162719</td>\n",
       "      <td>1.132382e-01</td>\n",
       "    </tr>\n",
       "    <tr>\n",
       "      <th>1</th>\n",
       "      <td>musicbrainz_artist_id</td>\n",
       "      <td>600848</td>\n",
       "      <td>3.145990e-02</td>\n",
       "    </tr>\n",
       "    <tr>\n",
       "      <th>2</th>\n",
       "      <td>track_name</td>\n",
       "      <td>12</td>\n",
       "      <td>6.283100e-07</td>\n",
       "    </tr>\n",
       "  </tbody>\n",
       "</table>\n",
       "</div>"
      ],
      "text/plain": [
       "                 Feature  NA Count       NA Rate\n",
       "0   musicbrainz_track_id   2162719  1.132382e-01\n",
       "1  musicbrainz_artist_id    600848  3.145990e-02\n",
       "2             track_name        12  6.283100e-07"
      ]
     },
     "execution_count": 11,
     "metadata": {},
     "output_type": "execute_result"
    }
   ],
   "source": [
    "check_missing_value(df, df.columns)"
   ]
  },
  {
   "cell_type": "markdown",
   "metadata": {},
   "source": [
    "Lots of id are missing. Track names are barely missing."
   ]
  },
  {
   "cell_type": "code",
   "execution_count": 12,
   "metadata": {},
   "outputs": [],
   "source": [
    "df['datetime'] = pd.to_datetime(df['timestamp'])\n",
    "df['year'] = df.datetime.dt.year\n",
    "df['month'] = df.datetime.dt.month\n",
    "df['day'] = df.datetime.dt.day\n",
    "df['hour'] = df.datetime.dt.hour"
   ]
  },
  {
   "cell_type": "code",
   "execution_count": 105,
   "metadata": {},
   "outputs": [
    {
     "data": {
      "text/html": [
       "<div>\n",
       "<style scoped>\n",
       "    .dataframe tbody tr th:only-of-type {\n",
       "        vertical-align: middle;\n",
       "    }\n",
       "\n",
       "    .dataframe tbody tr th {\n",
       "        vertical-align: top;\n",
       "    }\n",
       "\n",
       "    .dataframe thead th {\n",
       "        text-align: right;\n",
       "    }\n",
       "</style>\n",
       "<table border=\"1\" class=\"dataframe\">\n",
       "  <thead>\n",
       "    <tr style=\"text-align: right;\">\n",
       "      <th></th>\n",
       "      <th>userid</th>\n",
       "      <th>timestamp</th>\n",
       "      <th>musicbrainz_artist_id</th>\n",
       "      <th>artist_name</th>\n",
       "      <th>musicbrainz_track_id</th>\n",
       "      <th>track_name</th>\n",
       "      <th>date</th>\n",
       "      <th>datetime</th>\n",
       "      <th>year</th>\n",
       "      <th>month</th>\n",
       "      <th>hour</th>\n",
       "      <th>day</th>\n",
       "    </tr>\n",
       "  </thead>\n",
       "  <tbody>\n",
       "    <tr>\n",
       "      <th>0</th>\n",
       "      <td>user_000001</td>\n",
       "      <td>2009-05-04T23:08:57Z</td>\n",
       "      <td>f1b1cf71-bd35-4e99-8624-24a6e15f133a</td>\n",
       "      <td>Deep Dish</td>\n",
       "      <td>NaN</td>\n",
       "      <td>Fuck Me Im Famous (Pacha Ibiza)-09-28-2007</td>\n",
       "      <td>2009-05-04 23:08:57+00:00</td>\n",
       "      <td>2009-05-04 23:08:57+00:00</td>\n",
       "      <td>2009</td>\n",
       "      <td>5</td>\n",
       "      <td>23</td>\n",
       "      <td>4</td>\n",
       "    </tr>\n",
       "    <tr>\n",
       "      <th>1</th>\n",
       "      <td>user_000001</td>\n",
       "      <td>2009-05-04T13:54:10Z</td>\n",
       "      <td>a7f7df4a-77d8-4f12-8acd-5c60c93f4de8</td>\n",
       "      <td>坂本龍一</td>\n",
       "      <td>NaN</td>\n",
       "      <td>Composition 0919 (Live_2009_4_15)</td>\n",
       "      <td>2009-05-04 13:54:10+00:00</td>\n",
       "      <td>2009-05-04 13:54:10+00:00</td>\n",
       "      <td>2009</td>\n",
       "      <td>5</td>\n",
       "      <td>13</td>\n",
       "      <td>4</td>\n",
       "    </tr>\n",
       "    <tr>\n",
       "      <th>2</th>\n",
       "      <td>user_000001</td>\n",
       "      <td>2009-05-04T13:52:04Z</td>\n",
       "      <td>a7f7df4a-77d8-4f12-8acd-5c60c93f4de8</td>\n",
       "      <td>坂本龍一</td>\n",
       "      <td>NaN</td>\n",
       "      <td>Mc2 (Live_2009_4_15)</td>\n",
       "      <td>2009-05-04 13:52:04+00:00</td>\n",
       "      <td>2009-05-04 13:52:04+00:00</td>\n",
       "      <td>2009</td>\n",
       "      <td>5</td>\n",
       "      <td>13</td>\n",
       "      <td>4</td>\n",
       "    </tr>\n",
       "    <tr>\n",
       "      <th>3</th>\n",
       "      <td>user_000001</td>\n",
       "      <td>2009-05-04T13:42:52Z</td>\n",
       "      <td>a7f7df4a-77d8-4f12-8acd-5c60c93f4de8</td>\n",
       "      <td>坂本龍一</td>\n",
       "      <td>NaN</td>\n",
       "      <td>Hibari (Live_2009_4_15)</td>\n",
       "      <td>2009-05-04 13:42:52+00:00</td>\n",
       "      <td>2009-05-04 13:42:52+00:00</td>\n",
       "      <td>2009</td>\n",
       "      <td>5</td>\n",
       "      <td>13</td>\n",
       "      <td>4</td>\n",
       "    </tr>\n",
       "    <tr>\n",
       "      <th>4</th>\n",
       "      <td>user_000001</td>\n",
       "      <td>2009-05-04T13:42:11Z</td>\n",
       "      <td>a7f7df4a-77d8-4f12-8acd-5c60c93f4de8</td>\n",
       "      <td>坂本龍一</td>\n",
       "      <td>NaN</td>\n",
       "      <td>Mc1 (Live_2009_4_15)</td>\n",
       "      <td>2009-05-04 13:42:11+00:00</td>\n",
       "      <td>2009-05-04 13:42:11+00:00</td>\n",
       "      <td>2009</td>\n",
       "      <td>5</td>\n",
       "      <td>13</td>\n",
       "      <td>4</td>\n",
       "    </tr>\n",
       "  </tbody>\n",
       "</table>\n",
       "</div>"
      ],
      "text/plain": [
       "        userid             timestamp                 musicbrainz_artist_id  \\\n",
       "0  user_000001  2009-05-04T23:08:57Z  f1b1cf71-bd35-4e99-8624-24a6e15f133a   \n",
       "1  user_000001  2009-05-04T13:54:10Z  a7f7df4a-77d8-4f12-8acd-5c60c93f4de8   \n",
       "2  user_000001  2009-05-04T13:52:04Z  a7f7df4a-77d8-4f12-8acd-5c60c93f4de8   \n",
       "3  user_000001  2009-05-04T13:42:52Z  a7f7df4a-77d8-4f12-8acd-5c60c93f4de8   \n",
       "4  user_000001  2009-05-04T13:42:11Z  a7f7df4a-77d8-4f12-8acd-5c60c93f4de8   \n",
       "\n",
       "  artist_name musicbrainz_track_id  \\\n",
       "0   Deep Dish                  NaN   \n",
       "1        坂本龍一                  NaN   \n",
       "2        坂本龍一                  NaN   \n",
       "3        坂本龍一                  NaN   \n",
       "4        坂本龍一                  NaN   \n",
       "\n",
       "                                   track_name                      date  \\\n",
       "0  Fuck Me Im Famous (Pacha Ibiza)-09-28-2007 2009-05-04 23:08:57+00:00   \n",
       "1           Composition 0919 (Live_2009_4_15) 2009-05-04 13:54:10+00:00   \n",
       "2                        Mc2 (Live_2009_4_15) 2009-05-04 13:52:04+00:00   \n",
       "3                     Hibari (Live_2009_4_15) 2009-05-04 13:42:52+00:00   \n",
       "4                        Mc1 (Live_2009_4_15) 2009-05-04 13:42:11+00:00   \n",
       "\n",
       "                   datetime  year  month  hour  day  \n",
       "0 2009-05-04 23:08:57+00:00  2009      5    23    4  \n",
       "1 2009-05-04 13:54:10+00:00  2009      5    13    4  \n",
       "2 2009-05-04 13:52:04+00:00  2009      5    13    4  \n",
       "3 2009-05-04 13:42:52+00:00  2009      5    13    4  \n",
       "4 2009-05-04 13:42:11+00:00  2009      5    13    4  "
      ]
     },
     "execution_count": 105,
     "metadata": {},
     "output_type": "execute_result"
    }
   ],
   "source": [
    "df.head()"
   ]
  },
  {
   "cell_type": "code",
   "execution_count": 13,
   "metadata": {},
   "outputs": [],
   "source": [
    "df['artist_name'] = df['artist_name'].astype(str)\n",
    "df['track_name'] = df['track_name'].astype(str)\n",
    "df['artist_track'] = df[['artist_name', 'track_name']].agg('_'.join, axis=1)"
   ]
  },
  {
   "cell_type": "code",
   "execution_count": 106,
   "metadata": {},
   "outputs": [
    {
     "data": {
      "image/png": "[encoded data removed]",
      "text/plain": [
       "<Figure size 432x288 with 1 Axes>"
      ]
     },
     "metadata": {
      "needs_background": "light"
     },
     "output_type": "display_data"
    },
    {
     "data": {
      "image/png": "[encoded data removed]",
      "text/plain": [
       "<Figure size 432x288 with 1 Axes>"
      ]
     },
     "metadata": {
      "needs_background": "light"
     },
     "output_type": "display_data"
    },
    {
     "data": {
      "image/png": "[encoded data removed]",
      "text/plain": [
       "<Figure size 432x288 with 1 Axes>"
      ]
     },
     "metadata": {
      "needs_background": "light"
     },
     "output_type": "display_data"
    },
    {
     "data": {
      "image/png": "[encoded data removed]",
      "text/plain": [
       "<Figure size 432x288 with 1 Axes>"
      ]
     },
     "metadata": {
      "needs_background": "light"
     },
     "output_type": "display_data"
    }
   ],
   "source": [
    "# listening habits in different period of time\n",
    "plt.figure()\n",
    "ax1 = sns.countplot(x='year',data=df)\n",
    "plt.figure()\n",
    "ax2 = sns.countplot(x='month',data=df)\n",
    "plt.figure()\n",
    "ax2 = sns.countplot(x='day',data=df)\n",
    "plt.figure()\n",
    "ax3 = sns.countplot(x='hour',data=df)"
   ]
  },
  {
   "cell_type": "markdown",
   "metadata": {},
   "source": [
    "People tend to listening to music during the night and in spring season. Most the listning records are from 2006 to 2008."
   ]
  },
  {
   "cell_type": "code",
   "execution_count": 121,
   "metadata": {},
   "outputs": [
    {
     "data": {
      "text/plain": [
       "Intro                 17561\n",
       "[Untitled]             6926\n",
       "Untitled               6586\n",
       "Home                   6304\n",
       "All I Need             6234\n",
       "Angel                  6002\n",
       "Heartbeats             5676\n",
       "Wake Up                5658\n",
       "Crazy                  5627\n",
       "Such Great Heights     5571\n",
       "Name: track_name, dtype: int64"
      ]
     },
     "execution_count": 121,
     "metadata": {},
     "output_type": "execute_result"
    }
   ],
   "source": [
    "# top 10 popular tracks\n",
    "df['track_name'].value_counts()[:10]"
   ]
  },
  {
   "cell_type": "markdown",
   "metadata": {},
   "source": [
    "Note that there are lots of tracks with 'Untitled' and '[Untitled]'. We need to remove these rows."
   ]
  },
  {
   "cell_type": "code",
   "execution_count": 113,
   "metadata": {},
   "outputs": [
    {
     "data": {
      "text/plain": [
       "The Postal Service_Such Great Heights    3991\n",
       "Boy Division_Love Will Tear Us Apart     3651\n",
       "Radiohead_Karma Police                   3533\n",
       "Death Cab For Cutie_Soul Meets Body      3479\n",
       "Muse_Supermassive Black Hole             3463\n",
       "The Knife_Heartbeats                     3155\n",
       "Arcade Fire_Rebellion (Lies)             3047\n",
       "Muse_Starlight                           3040\n",
       "Britney Spears_Gimme More                3002\n",
       "The Killers_When You Were Young          2997\n",
       "Name: artist_track, dtype: int64"
      ]
     },
     "execution_count": 113,
     "metadata": {},
     "output_type": "execute_result"
    }
   ],
   "source": [
    "# top 10 popular tracks\n",
    "df['artist_track'].value_counts()[:10]"
   ]
  },
  {
   "cell_type": "code",
   "execution_count": 94,
   "metadata": {},
   "outputs": [
    {
     "data": {
      "text/plain": [
       "Radiohead              115099\n",
       "The Beatles            100126\n",
       "Nine Inch Nails         84317\n",
       "Muse                    63144\n",
       "Coldplay                62212\n",
       "Depeche Mode            59609\n",
       "Pink Floyd              58484\n",
       "Death Cab For Cutie     58046\n",
       "Placebo                 53492\n",
       "Elliott Smith           50202\n",
       "Name: artist_name, dtype: int64"
      ]
     },
     "execution_count": 94,
     "metadata": {},
     "output_type": "execute_result"
    }
   ],
   "source": [
    "# top 10 popular artists\n",
    "df['artist_name'].value_counts()[:10]"
   ]
  },
  {
   "cell_type": "markdown",
   "metadata": {},
   "source": [
    "# Sampling"
   ]
  },
  {
   "cell_type": "markdown",
   "metadata": {},
   "source": [
    "Since data is too large, I decided to filter out a one month listening records to move forward."
   ]
  },
  {
   "cell_type": "code",
   "execution_count": 14,
   "metadata": {},
   "outputs": [],
   "source": [
    "# we only take one month listening record data\n",
    "df_sample = df[(df.year==2008) & (df.month==3)]"
   ]
  },
  {
   "cell_type": "code",
   "execution_count": 18,
   "metadata": {},
   "outputs": [
    {
     "name": "stdout",
     "output_type": "stream",
     "text": [
      "<class 'pandas.core.frame.DataFrame'>\n",
      "Int64Index: 482386 entries, 10470 to 19097502\n",
      "Data columns (total 12 columns):\n",
      " #   Column                 Non-Null Count   Dtype              \n",
      "---  ------                 --------------   -----              \n",
      " 0   userid                 482386 non-null  object             \n",
      " 1   timestamp              482386 non-null  object             \n",
      " 2   musicbrainz_artist_id  467352 non-null  object             \n",
      " 3   artist_name            482386 non-null  object             \n",
      " 4   musicbrainz_track_id   426429 non-null  object             \n",
      " 5   track_name             482386 non-null  object             \n",
      " 6   datetime               482386 non-null  datetime64[ns, UTC]\n",
      " 7   year                   482386 non-null  int64              \n",
      " 8   month                  482386 non-null  int64              \n",
      " 9   day                    482386 non-null  int64              \n",
      " 10  hour                   482386 non-null  int64              \n",
      " 11  artist_track           482386 non-null  object             \n",
      "dtypes: datetime64[ns, UTC](1), int64(4), object(7)\n",
      "memory usage: 47.8+ MB\n"
     ]
    }
   ],
   "source": [
    "df_sample.info()"
   ]
  },
  {
   "cell_type": "code",
   "execution_count": 19,
   "metadata": {},
   "outputs": [
    {
     "data": {
      "text/html": [
       "<div>\n",
       "<style scoped>\n",
       "    .dataframe tbody tr th:only-of-type {\n",
       "        vertical-align: middle;\n",
       "    }\n",
       "\n",
       "    .dataframe tbody tr th {\n",
       "        vertical-align: top;\n",
       "    }\n",
       "\n",
       "    .dataframe thead th {\n",
       "        text-align: right;\n",
       "    }\n",
       "</style>\n",
       "<table border=\"1\" class=\"dataframe\">\n",
       "  <thead>\n",
       "    <tr style=\"text-align: right;\">\n",
       "      <th></th>\n",
       "      <th>userid</th>\n",
       "      <th>timestamp</th>\n",
       "      <th>musicbrainz_artist_id</th>\n",
       "      <th>artist_name</th>\n",
       "      <th>musicbrainz_track_id</th>\n",
       "      <th>track_name</th>\n",
       "      <th>datetime</th>\n",
       "      <th>year</th>\n",
       "      <th>month</th>\n",
       "      <th>day</th>\n",
       "      <th>hour</th>\n",
       "      <th>artist_track</th>\n",
       "    </tr>\n",
       "  </thead>\n",
       "  <tbody>\n",
       "    <tr>\n",
       "      <th>10470</th>\n",
       "      <td>user_000001</td>\n",
       "      <td>2008-03-31T14:21:08Z</td>\n",
       "      <td>NaN</td>\n",
       "      <td>Woodblue</td>\n",
       "      <td>NaN</td>\n",
       "      <td>Green Flash</td>\n",
       "      <td>2008-03-31 14:21:08+00:00</td>\n",
       "      <td>2008</td>\n",
       "      <td>3</td>\n",
       "      <td>31</td>\n",
       "      <td>14</td>\n",
       "      <td>Woodblue_Green Flash</td>\n",
       "    </tr>\n",
       "    <tr>\n",
       "      <th>10471</th>\n",
       "      <td>user_000001</td>\n",
       "      <td>2008-03-31T14:16:53Z</td>\n",
       "      <td>NaN</td>\n",
       "      <td>Woodblue</td>\n",
       "      <td>NaN</td>\n",
       "      <td>Iioa</td>\n",
       "      <td>2008-03-31 14:16:53+00:00</td>\n",
       "      <td>2008</td>\n",
       "      <td>3</td>\n",
       "      <td>31</td>\n",
       "      <td>14</td>\n",
       "      <td>Woodblue_Iioa</td>\n",
       "    </tr>\n",
       "    <tr>\n",
       "      <th>10472</th>\n",
       "      <td>user_000001</td>\n",
       "      <td>2008-03-31T14:02:39Z</td>\n",
       "      <td>NaN</td>\n",
       "      <td>Lushlife &amp; The Age Of Imagination Quartet</td>\n",
       "      <td>NaN</td>\n",
       "      <td>No Foundation</td>\n",
       "      <td>2008-03-31 14:02:39+00:00</td>\n",
       "      <td>2008</td>\n",
       "      <td>3</td>\n",
       "      <td>31</td>\n",
       "      <td>14</td>\n",
       "      <td>Lushlife &amp; The Age Of Imagination Quartet_No F...</td>\n",
       "    </tr>\n",
       "    <tr>\n",
       "      <th>10473</th>\n",
       "      <td>user_000001</td>\n",
       "      <td>2008-03-31T13:18:56Z</td>\n",
       "      <td>630662ea-1c7d-4208-99fd-ba3afec20f0c</td>\n",
       "      <td>Amon Tobin</td>\n",
       "      <td>3785cd62-4f04-49ee-a2ab-587956152891</td>\n",
       "      <td>Bloodstone</td>\n",
       "      <td>2008-03-31 13:18:56+00:00</td>\n",
       "      <td>2008</td>\n",
       "      <td>3</td>\n",
       "      <td>31</td>\n",
       "      <td>13</td>\n",
       "      <td>Amon Tobin_Bloodstone</td>\n",
       "    </tr>\n",
       "    <tr>\n",
       "      <th>10474</th>\n",
       "      <td>user_000001</td>\n",
       "      <td>2008-03-31T13:09:58Z</td>\n",
       "      <td>7c158ea8-c0aa-410e-bdc1-20bba9759577</td>\n",
       "      <td>The Cinematic Orchestra</td>\n",
       "      <td>919b8a05-e1eb-4402-a2a8-7cc40fcede7c</td>\n",
       "      <td>To Build A Home</td>\n",
       "      <td>2008-03-31 13:09:58+00:00</td>\n",
       "      <td>2008</td>\n",
       "      <td>3</td>\n",
       "      <td>31</td>\n",
       "      <td>13</td>\n",
       "      <td>The Cinematic Orchestra_To Build A Home</td>\n",
       "    </tr>\n",
       "  </tbody>\n",
       "</table>\n",
       "</div>"
      ],
      "text/plain": [
       "            userid             timestamp  \\\n",
       "10470  user_000001  2008-03-31T14:21:08Z   \n",
       "10471  user_000001  2008-03-31T14:16:53Z   \n",
       "10472  user_000001  2008-03-31T14:02:39Z   \n",
       "10473  user_000001  2008-03-31T13:18:56Z   \n",
       "10474  user_000001  2008-03-31T13:09:58Z   \n",
       "\n",
       "                      musicbrainz_artist_id  \\\n",
       "10470                                   NaN   \n",
       "10471                                   NaN   \n",
       "10472                                   NaN   \n",
       "10473  630662ea-1c7d-4208-99fd-ba3afec20f0c   \n",
       "10474  7c158ea8-c0aa-410e-bdc1-20bba9759577   \n",
       "\n",
       "                                     artist_name  \\\n",
       "10470                                   Woodblue   \n",
       "10471                                   Woodblue   \n",
       "10472  Lushlife & The Age Of Imagination Quartet   \n",
       "10473                                 Amon Tobin   \n",
       "10474                    The Cinematic Orchestra   \n",
       "\n",
       "                       musicbrainz_track_id       track_name  \\\n",
       "10470                                   NaN      Green Flash   \n",
       "10471                                   NaN             Iioa   \n",
       "10472                                   NaN    No Foundation   \n",
       "10473  3785cd62-4f04-49ee-a2ab-587956152891       Bloodstone   \n",
       "10474  919b8a05-e1eb-4402-a2a8-7cc40fcede7c  To Build A Home   \n",
       "\n",
       "                       datetime  year  month  day  hour  \\\n",
       "10470 2008-03-31 14:21:08+00:00  2008      3   31    14   \n",
       "10471 2008-03-31 14:16:53+00:00  2008      3   31    14   \n",
       "10472 2008-03-31 14:02:39+00:00  2008      3   31    14   \n",
       "10473 2008-03-31 13:18:56+00:00  2008      3   31    13   \n",
       "10474 2008-03-31 13:09:58+00:00  2008      3   31    13   \n",
       "\n",
       "                                            artist_track  \n",
       "10470                               Woodblue_Green Flash  \n",
       "10471                                      Woodblue_Iioa  \n",
       "10472  Lushlife & The Age Of Imagination Quartet_No F...  \n",
       "10473                              Amon Tobin_Bloodstone  \n",
       "10474            The Cinematic Orchestra_To Build A Home  "
      ]
     },
     "execution_count": 19,
     "metadata": {},
     "output_type": "execute_result"
    }
   ],
   "source": [
    "df_sample.head()"
   ]
  },
  {
   "cell_type": "code",
   "execution_count": 20,
   "metadata": {},
   "outputs": [
    {
     "data": {
      "text/html": [
       "<div>\n",
       "<style scoped>\n",
       "    .dataframe tbody tr th:only-of-type {\n",
       "        vertical-align: middle;\n",
       "    }\n",
       "\n",
       "    .dataframe tbody tr th {\n",
       "        vertical-align: top;\n",
       "    }\n",
       "\n",
       "    .dataframe thead th {\n",
       "        text-align: right;\n",
       "    }\n",
       "</style>\n",
       "<table border=\"1\" class=\"dataframe\">\n",
       "  <thead>\n",
       "    <tr style=\"text-align: right;\">\n",
       "      <th></th>\n",
       "      <th>Feature</th>\n",
       "      <th>NA Count</th>\n",
       "      <th>NA Rate</th>\n",
       "    </tr>\n",
       "  </thead>\n",
       "  <tbody>\n",
       "    <tr>\n",
       "      <th>0</th>\n",
       "      <td>musicbrainz_track_id</td>\n",
       "      <td>55957</td>\n",
       "      <td>0.116000</td>\n",
       "    </tr>\n",
       "    <tr>\n",
       "      <th>1</th>\n",
       "      <td>musicbrainz_artist_id</td>\n",
       "      <td>15034</td>\n",
       "      <td>0.031166</td>\n",
       "    </tr>\n",
       "  </tbody>\n",
       "</table>\n",
       "</div>"
      ],
      "text/plain": [
       "                 Feature  NA Count   NA Rate\n",
       "0   musicbrainz_track_id     55957  0.116000\n",
       "1  musicbrainz_artist_id     15034  0.031166"
      ]
     },
     "execution_count": 20,
     "metadata": {},
     "output_type": "execute_result"
    }
   ],
   "source": [
    "check_missing_value(df_sample, df_sample.columns)"
   ]
  },
  {
   "cell_type": "markdown",
   "metadata": {},
   "source": [
    "No track names are missing, but still lots of id are missing. I decide to combine the artist_name and track_name to make it unique."
   ]
  },
  {
   "cell_type": "code",
   "execution_count": 78,
   "metadata": {},
   "outputs": [
    {
     "name": "stdout",
     "output_type": "stream",
     "text": [
      "Unique users number: 590\n",
      "Unique artists number: 29197\n",
      "Unique track number: 148659\n",
      "Unique artists_track number: 178423\n"
     ]
    }
   ],
   "source": [
    "show_stats(df_sample)"
   ]
  },
  {
   "cell_type": "code",
   "execution_count": 17,
   "metadata": {},
   "outputs": [],
   "source": [
    "# export the sampled data\n",
    "df_sample.to_csv('../data/interim/user-lisetning-records-2008-march.csv')"
   ]
  }
 ],
 "metadata": {
  "interpreter": {
   "hash": "b0fa6594d8f4cbf19f97940f81e996739fb7646882a419484c72d19e05852a7e"
  },
  "kernelspec": {
   "display_name": "Python 3.9.9 64-bit",
   "name": "python3"
  },
  "language_info": {
   "codemirror_mode": {
    "name": "ipython",
    "version": 3
   },
   "file_extension": ".py",
   "mimetype": "text/x-python",
   "name": "python",
   "nbconvert_exporter": "python",
   "pygments_lexer": "ipython3",
   "version": "3.9.9"
  },
  "orig_nbformat": 4
 },
 "nbformat": 4,
 "nbformat_minor": 2
}
