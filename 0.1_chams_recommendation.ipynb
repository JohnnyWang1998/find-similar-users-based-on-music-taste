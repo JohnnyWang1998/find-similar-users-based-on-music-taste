{
  "cells": [
    {
      "cell_type": "markdown",
      "source": [
        "Data Importing\n"
      ],
      "metadata": {
        "id": "AS8dVlwqSz79"
      }
    },
    {
      "cell_type": "code",
      "source": [
        "# import libraries\n",
        "import pandas as pd\n",
        "import numpy as np\n",
        "from typing import List\n",
        "import seaborn as sns\n",
        "import matplotlib.pyplot as plt\n",
        "from tqdm import tqdm\n",
        "from sklearn.preprocessing import OneHotEncoder"
      ],
      "metadata": {
        "id": "hSS_nykKS3Tl"
      },
      "execution_count": 54,
      "outputs": []
    },
    {
      "cell_type": "code",
      "execution_count": 55,
      "metadata": {
        "id": "AymJlTneEjbq"
      },
      "outputs": [],
      "source": [
        "# when opened using vscode\n",
        "#data1=pd.read_csv('../data/interim/user-listen-count.csv')"
      ]
    },
    {
      "cell_type": "code",
      "execution_count": 56,
      "metadata": {
        "colab": {
          "base_uri": "https://localhost:8080/"
        },
        "id": "4hOuOUoFEmyC",
        "outputId": "fbaf906b-1f8f-4202-e400-645de6cacc3b"
      },
      "outputs": [
        {
          "output_type": "stream",
          "name": "stdout",
          "text": [
            "Drive already mounted at /content/drive; to attempt to forcibly remount, call drive.mount(\"/content/drive\", force_remount=True).\n"
          ]
        }
      ],
      "source": [
        "# when opened using g-drive\n",
        "from google.colab import drive\n",
        "drive.mount('/content/drive')\n",
        "url=\"/content/drive/MyDrive/uml/user-listen-count.csv\"\n",
        "data1 = pd.read_csv(url)"
      ]
    },
    {
      "cell_type": "markdown",
      "source": [
        "Data Cleaning"
      ],
      "metadata": {
        "id": "4yyR2qksS_GU"
      }
    },
    {
      "cell_type": "code",
      "execution_count": 57,
      "metadata": {
        "id": "zYtK-1l7Ejbr"
      },
      "outputs": [],
      "source": [
        "df1 = data1.copy()\n",
        "df1.drop(df1.columns[0], axis=1, inplace=True)"
      ]
    },
    {
      "cell_type": "code",
      "execution_count": 58,
      "metadata": {
        "colab": {
          "base_uri": "https://localhost:8080/",
          "height": 206
        },
        "id": "PmtUBoMJEjbr",
        "outputId": "35f31c04-c58e-4a74-f82f-508b5f309cdb"
      },
      "outputs": [
        {
          "output_type": "execute_result",
          "data": {
            "text/plain": [
              "        userid                 artist_track  listen_count\n",
              "0  user_000001        Amon Tobin_Bloodstone             9\n",
              "1  user_000001             Bonobo_Nightlite             6\n",
              "2  user_000001  Cadence Weapon_Getting Dumb             6\n",
              "3  user_000001      Clark_Ache Of The North             2\n",
              "4  user_000001                    Clark_Beg             2"
            ],
            "text/html": [
              "\n",
              "  <div id=\"df-35ca77d9-17a3-4397-8cd5-7f125c031078\">\n",
              "    <div class=\"colab-df-container\">\n",
              "      <div>\n",
              "<style scoped>\n",
              "    .dataframe tbody tr th:only-of-type {\n",
              "        vertical-align: middle;\n",
              "    }\n",
              "\n",
              "    .dataframe tbody tr th {\n",
              "        vertical-align: top;\n",
              "    }\n",
              "\n",
              "    .dataframe thead th {\n",
              "        text-align: right;\n",
              "    }\n",
              "</style>\n",
              "<table border=\"1\" class=\"dataframe\">\n",
              "  <thead>\n",
              "    <tr style=\"text-align: right;\">\n",
              "      <th></th>\n",
              "      <th>userid</th>\n",
              "      <th>artist_track</th>\n",
              "      <th>listen_count</th>\n",
              "    </tr>\n",
              "  </thead>\n",
              "  <tbody>\n",
              "    <tr>\n",
              "      <th>0</th>\n",
              "      <td>user_000001</td>\n",
              "      <td>Amon Tobin_Bloodstone</td>\n",
              "      <td>9</td>\n",
              "    </tr>\n",
              "    <tr>\n",
              "      <th>1</th>\n",
              "      <td>user_000001</td>\n",
              "      <td>Bonobo_Nightlite</td>\n",
              "      <td>6</td>\n",
              "    </tr>\n",
              "    <tr>\n",
              "      <th>2</th>\n",
              "      <td>user_000001</td>\n",
              "      <td>Cadence Weapon_Getting Dumb</td>\n",
              "      <td>6</td>\n",
              "    </tr>\n",
              "    <tr>\n",
              "      <th>3</th>\n",
              "      <td>user_000001</td>\n",
              "      <td>Clark_Ache Of The North</td>\n",
              "      <td>2</td>\n",
              "    </tr>\n",
              "    <tr>\n",
              "      <th>4</th>\n",
              "      <td>user_000001</td>\n",
              "      <td>Clark_Beg</td>\n",
              "      <td>2</td>\n",
              "    </tr>\n",
              "  </tbody>\n",
              "</table>\n",
              "</div>\n",
              "      <button class=\"colab-df-convert\" onclick=\"convertToInteractive('df-35ca77d9-17a3-4397-8cd5-7f125c031078')\"\n",
              "              title=\"Convert this dataframe to an interactive table.\"\n",
              "              style=\"display:none;\">\n",
              "        \n",
              "  <svg xmlns=\"http://www.w3.org/2000/svg\" height=\"24px\"viewBox=\"0 0 24 24\"\n",
              "       width=\"24px\">\n",
              "    <path d=\"M0 0h24v24H0V0z\" fill=\"none\"/>\n",
              "    <path d=\"M18.56 5.44l.94 2.06.94-2.06 2.06-.94-2.06-.94-.94-2.06-.94 2.06-2.06.94zm-11 1L8.5 8.5l.94-2.06 2.06-.94-2.06-.94L8.5 2.5l-.94 2.06-2.06.94zm10 10l.94 2.06.94-2.06 2.06-.94-2.06-.94-.94-2.06-.94 2.06-2.06.94z\"/><path d=\"M17.41 7.96l-1.37-1.37c-.4-.4-.92-.59-1.43-.59-.52 0-1.04.2-1.43.59L10.3 9.45l-7.72 7.72c-.78.78-.78 2.05 0 2.83L4 21.41c.39.39.9.59 1.41.59.51 0 1.02-.2 1.41-.59l7.78-7.78 2.81-2.81c.8-.78.8-2.07 0-2.86zM5.41 20L4 18.59l7.72-7.72 1.47 1.35L5.41 20z\"/>\n",
              "  </svg>\n",
              "      </button>\n",
              "      \n",
              "  <style>\n",
              "    .colab-df-container {\n",
              "      display:flex;\n",
              "      flex-wrap:wrap;\n",
              "      gap: 12px;\n",
              "    }\n",
              "\n",
              "    .colab-df-convert {\n",
              "      background-color: #E8F0FE;\n",
              "      border: none;\n",
              "      border-radius: 50%;\n",
              "      cursor: pointer;\n",
              "      display: none;\n",
              "      fill: #1967D2;\n",
              "      height: 32px;\n",
              "      padding: 0 0 0 0;\n",
              "      width: 32px;\n",
              "    }\n",
              "\n",
              "    .colab-df-convert:hover {\n",
              "      background-color: #E2EBFA;\n",
              "      box-shadow: 0px 1px 2px rgba(60, 64, 67, 0.3), 0px 1px 3px 1px rgba(60, 64, 67, 0.15);\n",
              "      fill: #174EA6;\n",
              "    }\n",
              "\n",
              "    [theme=dark] .colab-df-convert {\n",
              "      background-color: #3B4455;\n",
              "      fill: #D2E3FC;\n",
              "    }\n",
              "\n",
              "    [theme=dark] .colab-df-convert:hover {\n",
              "      background-color: #434B5C;\n",
              "      box-shadow: 0px 1px 3px 1px rgba(0, 0, 0, 0.15);\n",
              "      filter: drop-shadow(0px 1px 2px rgba(0, 0, 0, 0.3));\n",
              "      fill: #FFFFFF;\n",
              "    }\n",
              "  </style>\n",
              "\n",
              "      <script>\n",
              "        const buttonEl =\n",
              "          document.querySelector('#df-35ca77d9-17a3-4397-8cd5-7f125c031078 button.colab-df-convert');\n",
              "        buttonEl.style.display =\n",
              "          google.colab.kernel.accessAllowed ? 'block' : 'none';\n",
              "\n",
              "        async function convertToInteractive(key) {\n",
              "          const element = document.querySelector('#df-35ca77d9-17a3-4397-8cd5-7f125c031078');\n",
              "          const dataTable =\n",
              "            await google.colab.kernel.invokeFunction('convertToInteractive',\n",
              "                                                     [key], {});\n",
              "          if (!dataTable) return;\n",
              "\n",
              "          const docLinkHtml = 'Like what you see? Visit the ' +\n",
              "            '<a target=\"_blank\" href=https://colab.research.google.com/notebooks/data_table.ipynb>data table notebook</a>'\n",
              "            + ' to learn more about interactive tables.';\n",
              "          element.innerHTML = '';\n",
              "          dataTable['output_type'] = 'display_data';\n",
              "          await google.colab.output.renderOutput(dataTable, element);\n",
              "          const docLink = document.createElement('div');\n",
              "          docLink.innerHTML = docLinkHtml;\n",
              "          element.appendChild(docLink);\n",
              "        }\n",
              "      </script>\n",
              "    </div>\n",
              "  </div>\n",
              "  "
            ]
          },
          "metadata": {},
          "execution_count": 58
        }
      ],
      "source": [
        "df1.head()"
      ]
    },
    {
      "cell_type": "code",
      "execution_count": 59,
      "metadata": {
        "id": "ubQAvLNeEjbs"
      },
      "outputs": [],
      "source": [
        "# assign user_id and track_id for the dataset\n",
        "df1= df1.assign(user_id=(df1['userid']).astype('category').cat.codes)\n",
        "df1= df1.assign(track_id=(df1['artist_track']).astype('category').cat.codes)"
      ]
    },
    {
      "cell_type": "code",
      "execution_count": 60,
      "metadata": {
        "id": "jvbPeR2uEjbt"
      },
      "outputs": [],
      "source": [
        "# splitting datasets  \n",
        "# df_track with track_id and artist_track information\n",
        "# df_listen_track with user_id, track_id, listen_count information\n",
        "df_track= pd.DataFrame().assign(artist_track=df1['artist_track'], track_id=df1['track_id'])\n",
        "df_listen_track=pd.DataFrame().assign(user_id=df1['user_id'], track_id=df1['track_id'],listen_count=df1['listen_count'])"
      ]
    },
    {
      "cell_type": "code",
      "execution_count": 61,
      "metadata": {
        "colab": {
          "base_uri": "https://localhost:8080/",
          "height": 206
        },
        "id": "oeFXWScJEjbu",
        "outputId": "c4082aef-27e0-4cac-b095-5a818ace1087"
      },
      "outputs": [
        {
          "output_type": "execute_result",
          "data": {
            "text/plain": [
              "                  artist_track  track_id\n",
              "0        Amon Tobin_Bloodstone      6984\n",
              "1             Bonobo_Nightlite     21868\n",
              "2  Cadence Weapon_Getting Dumb     25286\n",
              "3      Clark_Ache Of The North     30316\n",
              "4                    Clark_Beg     30319"
            ],
            "text/html": [
              "\n",
              "  <div id=\"df-5c55563f-de37-4379-be7a-58fb9200ee32\">\n",
              "    <div class=\"colab-df-container\">\n",
              "      <div>\n",
              "<style scoped>\n",
              "    .dataframe tbody tr th:only-of-type {\n",
              "        vertical-align: middle;\n",
              "    }\n",
              "\n",
              "    .dataframe tbody tr th {\n",
              "        vertical-align: top;\n",
              "    }\n",
              "\n",
              "    .dataframe thead th {\n",
              "        text-align: right;\n",
              "    }\n",
              "</style>\n",
              "<table border=\"1\" class=\"dataframe\">\n",
              "  <thead>\n",
              "    <tr style=\"text-align: right;\">\n",
              "      <th></th>\n",
              "      <th>artist_track</th>\n",
              "      <th>track_id</th>\n",
              "    </tr>\n",
              "  </thead>\n",
              "  <tbody>\n",
              "    <tr>\n",
              "      <th>0</th>\n",
              "      <td>Amon Tobin_Bloodstone</td>\n",
              "      <td>6984</td>\n",
              "    </tr>\n",
              "    <tr>\n",
              "      <th>1</th>\n",
              "      <td>Bonobo_Nightlite</td>\n",
              "      <td>21868</td>\n",
              "    </tr>\n",
              "    <tr>\n",
              "      <th>2</th>\n",
              "      <td>Cadence Weapon_Getting Dumb</td>\n",
              "      <td>25286</td>\n",
              "    </tr>\n",
              "    <tr>\n",
              "      <th>3</th>\n",
              "      <td>Clark_Ache Of The North</td>\n",
              "      <td>30316</td>\n",
              "    </tr>\n",
              "    <tr>\n",
              "      <th>4</th>\n",
              "      <td>Clark_Beg</td>\n",
              "      <td>30319</td>\n",
              "    </tr>\n",
              "  </tbody>\n",
              "</table>\n",
              "</div>\n",
              "      <button class=\"colab-df-convert\" onclick=\"convertToInteractive('df-5c55563f-de37-4379-be7a-58fb9200ee32')\"\n",
              "              title=\"Convert this dataframe to an interactive table.\"\n",
              "              style=\"display:none;\">\n",
              "        \n",
              "  <svg xmlns=\"http://www.w3.org/2000/svg\" height=\"24px\"viewBox=\"0 0 24 24\"\n",
              "       width=\"24px\">\n",
              "    <path d=\"M0 0h24v24H0V0z\" fill=\"none\"/>\n",
              "    <path d=\"M18.56 5.44l.94 2.06.94-2.06 2.06-.94-2.06-.94-.94-2.06-.94 2.06-2.06.94zm-11 1L8.5 8.5l.94-2.06 2.06-.94-2.06-.94L8.5 2.5l-.94 2.06-2.06.94zm10 10l.94 2.06.94-2.06 2.06-.94-2.06-.94-.94-2.06-.94 2.06-2.06.94z\"/><path d=\"M17.41 7.96l-1.37-1.37c-.4-.4-.92-.59-1.43-.59-.52 0-1.04.2-1.43.59L10.3 9.45l-7.72 7.72c-.78.78-.78 2.05 0 2.83L4 21.41c.39.39.9.59 1.41.59.51 0 1.02-.2 1.41-.59l7.78-7.78 2.81-2.81c.8-.78.8-2.07 0-2.86zM5.41 20L4 18.59l7.72-7.72 1.47 1.35L5.41 20z\"/>\n",
              "  </svg>\n",
              "      </button>\n",
              "      \n",
              "  <style>\n",
              "    .colab-df-container {\n",
              "      display:flex;\n",
              "      flex-wrap:wrap;\n",
              "      gap: 12px;\n",
              "    }\n",
              "\n",
              "    .colab-df-convert {\n",
              "      background-color: #E8F0FE;\n",
              "      border: none;\n",
              "      border-radius: 50%;\n",
              "      cursor: pointer;\n",
              "      display: none;\n",
              "      fill: #1967D2;\n",
              "      height: 32px;\n",
              "      padding: 0 0 0 0;\n",
              "      width: 32px;\n",
              "    }\n",
              "\n",
              "    .colab-df-convert:hover {\n",
              "      background-color: #E2EBFA;\n",
              "      box-shadow: 0px 1px 2px rgba(60, 64, 67, 0.3), 0px 1px 3px 1px rgba(60, 64, 67, 0.15);\n",
              "      fill: #174EA6;\n",
              "    }\n",
              "\n",
              "    [theme=dark] .colab-df-convert {\n",
              "      background-color: #3B4455;\n",
              "      fill: #D2E3FC;\n",
              "    }\n",
              "\n",
              "    [theme=dark] .colab-df-convert:hover {\n",
              "      background-color: #434B5C;\n",
              "      box-shadow: 0px 1px 3px 1px rgba(0, 0, 0, 0.15);\n",
              "      filter: drop-shadow(0px 1px 2px rgba(0, 0, 0, 0.3));\n",
              "      fill: #FFFFFF;\n",
              "    }\n",
              "  </style>\n",
              "\n",
              "      <script>\n",
              "        const buttonEl =\n",
              "          document.querySelector('#df-5c55563f-de37-4379-be7a-58fb9200ee32 button.colab-df-convert');\n",
              "        buttonEl.style.display =\n",
              "          google.colab.kernel.accessAllowed ? 'block' : 'none';\n",
              "\n",
              "        async function convertToInteractive(key) {\n",
              "          const element = document.querySelector('#df-5c55563f-de37-4379-be7a-58fb9200ee32');\n",
              "          const dataTable =\n",
              "            await google.colab.kernel.invokeFunction('convertToInteractive',\n",
              "                                                     [key], {});\n",
              "          if (!dataTable) return;\n",
              "\n",
              "          const docLinkHtml = 'Like what you see? Visit the ' +\n",
              "            '<a target=\"_blank\" href=https://colab.research.google.com/notebooks/data_table.ipynb>data table notebook</a>'\n",
              "            + ' to learn more about interactive tables.';\n",
              "          element.innerHTML = '';\n",
              "          dataTable['output_type'] = 'display_data';\n",
              "          await google.colab.output.renderOutput(dataTable, element);\n",
              "          const docLink = document.createElement('div');\n",
              "          docLink.innerHTML = docLinkHtml;\n",
              "          element.appendChild(docLink);\n",
              "        }\n",
              "      </script>\n",
              "    </div>\n",
              "  </div>\n",
              "  "
            ]
          },
          "metadata": {},
          "execution_count": 61
        }
      ],
      "source": [
        "df_track.head()"
      ]
    },
    {
      "cell_type": "code",
      "execution_count": 62,
      "metadata": {
        "colab": {
          "base_uri": "https://localhost:8080/",
          "height": 206
        },
        "id": "PsXqrModEjbu",
        "outputId": "bd260eac-0c5b-4016-c5b9-350c591427d7"
      },
      "outputs": [
        {
          "output_type": "execute_result",
          "data": {
            "text/plain": [
              "   user_id  track_id  listen_count\n",
              "0        0      6984             9\n",
              "1        0     21868             6\n",
              "2        0     25286             6\n",
              "3        0     30316             2\n",
              "4        0     30319             2"
            ],
            "text/html": [
              "\n",
              "  <div id=\"df-15995263-3760-484b-b39f-927b08f8be38\">\n",
              "    <div class=\"colab-df-container\">\n",
              "      <div>\n",
              "<style scoped>\n",
              "    .dataframe tbody tr th:only-of-type {\n",
              "        vertical-align: middle;\n",
              "    }\n",
              "\n",
              "    .dataframe tbody tr th {\n",
              "        vertical-align: top;\n",
              "    }\n",
              "\n",
              "    .dataframe thead th {\n",
              "        text-align: right;\n",
              "    }\n",
              "</style>\n",
              "<table border=\"1\" class=\"dataframe\">\n",
              "  <thead>\n",
              "    <tr style=\"text-align: right;\">\n",
              "      <th></th>\n",
              "      <th>user_id</th>\n",
              "      <th>track_id</th>\n",
              "      <th>listen_count</th>\n",
              "    </tr>\n",
              "  </thead>\n",
              "  <tbody>\n",
              "    <tr>\n",
              "      <th>0</th>\n",
              "      <td>0</td>\n",
              "      <td>6984</td>\n",
              "      <td>9</td>\n",
              "    </tr>\n",
              "    <tr>\n",
              "      <th>1</th>\n",
              "      <td>0</td>\n",
              "      <td>21868</td>\n",
              "      <td>6</td>\n",
              "    </tr>\n",
              "    <tr>\n",
              "      <th>2</th>\n",
              "      <td>0</td>\n",
              "      <td>25286</td>\n",
              "      <td>6</td>\n",
              "    </tr>\n",
              "    <tr>\n",
              "      <th>3</th>\n",
              "      <td>0</td>\n",
              "      <td>30316</td>\n",
              "      <td>2</td>\n",
              "    </tr>\n",
              "    <tr>\n",
              "      <th>4</th>\n",
              "      <td>0</td>\n",
              "      <td>30319</td>\n",
              "      <td>2</td>\n",
              "    </tr>\n",
              "  </tbody>\n",
              "</table>\n",
              "</div>\n",
              "      <button class=\"colab-df-convert\" onclick=\"convertToInteractive('df-15995263-3760-484b-b39f-927b08f8be38')\"\n",
              "              title=\"Convert this dataframe to an interactive table.\"\n",
              "              style=\"display:none;\">\n",
              "        \n",
              "  <svg xmlns=\"http://www.w3.org/2000/svg\" height=\"24px\"viewBox=\"0 0 24 24\"\n",
              "       width=\"24px\">\n",
              "    <path d=\"M0 0h24v24H0V0z\" fill=\"none\"/>\n",
              "    <path d=\"M18.56 5.44l.94 2.06.94-2.06 2.06-.94-2.06-.94-.94-2.06-.94 2.06-2.06.94zm-11 1L8.5 8.5l.94-2.06 2.06-.94-2.06-.94L8.5 2.5l-.94 2.06-2.06.94zm10 10l.94 2.06.94-2.06 2.06-.94-2.06-.94-.94-2.06-.94 2.06-2.06.94z\"/><path d=\"M17.41 7.96l-1.37-1.37c-.4-.4-.92-.59-1.43-.59-.52 0-1.04.2-1.43.59L10.3 9.45l-7.72 7.72c-.78.78-.78 2.05 0 2.83L4 21.41c.39.39.9.59 1.41.59.51 0 1.02-.2 1.41-.59l7.78-7.78 2.81-2.81c.8-.78.8-2.07 0-2.86zM5.41 20L4 18.59l7.72-7.72 1.47 1.35L5.41 20z\"/>\n",
              "  </svg>\n",
              "      </button>\n",
              "      \n",
              "  <style>\n",
              "    .colab-df-container {\n",
              "      display:flex;\n",
              "      flex-wrap:wrap;\n",
              "      gap: 12px;\n",
              "    }\n",
              "\n",
              "    .colab-df-convert {\n",
              "      background-color: #E8F0FE;\n",
              "      border: none;\n",
              "      border-radius: 50%;\n",
              "      cursor: pointer;\n",
              "      display: none;\n",
              "      fill: #1967D2;\n",
              "      height: 32px;\n",
              "      padding: 0 0 0 0;\n",
              "      width: 32px;\n",
              "    }\n",
              "\n",
              "    .colab-df-convert:hover {\n",
              "      background-color: #E2EBFA;\n",
              "      box-shadow: 0px 1px 2px rgba(60, 64, 67, 0.3), 0px 1px 3px 1px rgba(60, 64, 67, 0.15);\n",
              "      fill: #174EA6;\n",
              "    }\n",
              "\n",
              "    [theme=dark] .colab-df-convert {\n",
              "      background-color: #3B4455;\n",
              "      fill: #D2E3FC;\n",
              "    }\n",
              "\n",
              "    [theme=dark] .colab-df-convert:hover {\n",
              "      background-color: #434B5C;\n",
              "      box-shadow: 0px 1px 3px 1px rgba(0, 0, 0, 0.15);\n",
              "      filter: drop-shadow(0px 1px 2px rgba(0, 0, 0, 0.3));\n",
              "      fill: #FFFFFF;\n",
              "    }\n",
              "  </style>\n",
              "\n",
              "      <script>\n",
              "        const buttonEl =\n",
              "          document.querySelector('#df-15995263-3760-484b-b39f-927b08f8be38 button.colab-df-convert');\n",
              "        buttonEl.style.display =\n",
              "          google.colab.kernel.accessAllowed ? 'block' : 'none';\n",
              "\n",
              "        async function convertToInteractive(key) {\n",
              "          const element = document.querySelector('#df-15995263-3760-484b-b39f-927b08f8be38');\n",
              "          const dataTable =\n",
              "            await google.colab.kernel.invokeFunction('convertToInteractive',\n",
              "                                                     [key], {});\n",
              "          if (!dataTable) return;\n",
              "\n",
              "          const docLinkHtml = 'Like what you see? Visit the ' +\n",
              "            '<a target=\"_blank\" href=https://colab.research.google.com/notebooks/data_table.ipynb>data table notebook</a>'\n",
              "            + ' to learn more about interactive tables.';\n",
              "          element.innerHTML = '';\n",
              "          dataTable['output_type'] = 'display_data';\n",
              "          await google.colab.output.renderOutput(dataTable, element);\n",
              "          const docLink = document.createElement('div');\n",
              "          docLink.innerHTML = docLinkHtml;\n",
              "          element.appendChild(docLink);\n",
              "        }\n",
              "      </script>\n",
              "    </div>\n",
              "  </div>\n",
              "  "
            ]
          },
          "metadata": {},
          "execution_count": 62
        }
      ],
      "source": [
        "df_listen_track.head()"
      ]
    },
    {
      "cell_type": "markdown",
      "source": [
        "Setting up the Dataset for Modelling\n"
      ],
      "metadata": {
        "id": "0kLhtqMtZ7ZY"
      }
    },
    {
      "cell_type": "code",
      "execution_count": 63,
      "metadata": {
        "id": "0nrQP6uxEjbv"
      },
      "outputs": [],
      "source": [
        "# # To gain a better interpretation of the data, a pivot dataframe is built by filling the null values with 0.0\n",
        "df_track_features = df_listen_track.pivot(\n",
        "    index='user_id',\n",
        "    columns='track_id',\n",
        "    values='listen_count'\n",
        ").fillna(0)"
      ]
    },
    {
      "cell_type": "code",
      "execution_count": 64,
      "metadata": {
        "colab": {
          "base_uri": "https://localhost:8080/",
          "height": 267
        },
        "id": "mc3yi876Ejbw",
        "outputId": "acc8bea6-9777-4d9d-a167-dcfa3fd4f949"
      },
      "outputs": [
        {
          "output_type": "execute_result",
          "data": {
            "text/plain": [
              "track_id  0       1       2       3       4       5       6       7       \\\n",
              "user_id                                                                    \n",
              "0            0.0     0.0     0.0     0.0     0.0     0.0     0.0     0.0   \n",
              "1            0.0     0.0     0.0     0.0     0.0     0.0     0.0     0.0   \n",
              "2            0.0     0.0     0.0     0.0     0.0     0.0     0.0     0.0   \n",
              "3            0.0     0.0     0.0     0.0     0.0     0.0     1.0     1.0   \n",
              "4            0.0     0.0     0.0     0.0     0.0     0.0     0.0     0.0   \n",
              "\n",
              "track_id  8       9       ...  178413  178414  178415  178416  178417  178418  \\\n",
              "user_id                   ...                                                   \n",
              "0            0.0     0.0  ...     0.0     0.0     0.0     0.0     0.0     0.0   \n",
              "1            0.0     0.0  ...     0.0     0.0     0.0     0.0     0.0     0.0   \n",
              "2            0.0     0.0  ...     0.0     0.0     0.0     0.0     0.0     0.0   \n",
              "3            1.0     0.0  ...     0.0     0.0     0.0     0.0     0.0     0.0   \n",
              "4            0.0     0.0  ...     0.0     0.0     0.0     0.0     0.0     0.0   \n",
              "\n",
              "track_id  178419  178420  178421  178422  \n",
              "user_id                                   \n",
              "0            0.0     0.0     0.0     0.0  \n",
              "1            0.0     0.0     0.0     0.0  \n",
              "2            0.0     0.0     0.0     0.0  \n",
              "3            0.0     0.0     0.0     0.0  \n",
              "4            0.0     0.0     0.0     0.0  \n",
              "\n",
              "[5 rows x 178423 columns]"
            ],
            "text/html": [
              "\n",
              "  <div id=\"df-914184f5-fa12-4ce7-8ba4-4171d8886fd6\">\n",
              "    <div class=\"colab-df-container\">\n",
              "      <div>\n",
              "<style scoped>\n",
              "    .dataframe tbody tr th:only-of-type {\n",
              "        vertical-align: middle;\n",
              "    }\n",
              "\n",
              "    .dataframe tbody tr th {\n",
              "        vertical-align: top;\n",
              "    }\n",
              "\n",
              "    .dataframe thead th {\n",
              "        text-align: right;\n",
              "    }\n",
              "</style>\n",
              "<table border=\"1\" class=\"dataframe\">\n",
              "  <thead>\n",
              "    <tr style=\"text-align: right;\">\n",
              "      <th>track_id</th>\n",
              "      <th>0</th>\n",
              "      <th>1</th>\n",
              "      <th>2</th>\n",
              "      <th>3</th>\n",
              "      <th>4</th>\n",
              "      <th>5</th>\n",
              "      <th>6</th>\n",
              "      <th>7</th>\n",
              "      <th>8</th>\n",
              "      <th>9</th>\n",
              "      <th>...</th>\n",
              "      <th>178413</th>\n",
              "      <th>178414</th>\n",
              "      <th>178415</th>\n",
              "      <th>178416</th>\n",
              "      <th>178417</th>\n",
              "      <th>178418</th>\n",
              "      <th>178419</th>\n",
              "      <th>178420</th>\n",
              "      <th>178421</th>\n",
              "      <th>178422</th>\n",
              "    </tr>\n",
              "    <tr>\n",
              "      <th>user_id</th>\n",
              "      <th></th>\n",
              "      <th></th>\n",
              "      <th></th>\n",
              "      <th></th>\n",
              "      <th></th>\n",
              "      <th></th>\n",
              "      <th></th>\n",
              "      <th></th>\n",
              "      <th></th>\n",
              "      <th></th>\n",
              "      <th></th>\n",
              "      <th></th>\n",
              "      <th></th>\n",
              "      <th></th>\n",
              "      <th></th>\n",
              "      <th></th>\n",
              "      <th></th>\n",
              "      <th></th>\n",
              "      <th></th>\n",
              "      <th></th>\n",
              "      <th></th>\n",
              "    </tr>\n",
              "  </thead>\n",
              "  <tbody>\n",
              "    <tr>\n",
              "      <th>0</th>\n",
              "      <td>0.0</td>\n",
              "      <td>0.0</td>\n",
              "      <td>0.0</td>\n",
              "      <td>0.0</td>\n",
              "      <td>0.0</td>\n",
              "      <td>0.0</td>\n",
              "      <td>0.0</td>\n",
              "      <td>0.0</td>\n",
              "      <td>0.0</td>\n",
              "      <td>0.0</td>\n",
              "      <td>...</td>\n",
              "      <td>0.0</td>\n",
              "      <td>0.0</td>\n",
              "      <td>0.0</td>\n",
              "      <td>0.0</td>\n",
              "      <td>0.0</td>\n",
              "      <td>0.0</td>\n",
              "      <td>0.0</td>\n",
              "      <td>0.0</td>\n",
              "      <td>0.0</td>\n",
              "      <td>0.0</td>\n",
              "    </tr>\n",
              "    <tr>\n",
              "      <th>1</th>\n",
              "      <td>0.0</td>\n",
              "      <td>0.0</td>\n",
              "      <td>0.0</td>\n",
              "      <td>0.0</td>\n",
              "      <td>0.0</td>\n",
              "      <td>0.0</td>\n",
              "      <td>0.0</td>\n",
              "      <td>0.0</td>\n",
              "      <td>0.0</td>\n",
              "      <td>0.0</td>\n",
              "      <td>...</td>\n",
              "      <td>0.0</td>\n",
              "      <td>0.0</td>\n",
              "      <td>0.0</td>\n",
              "      <td>0.0</td>\n",
              "      <td>0.0</td>\n",
              "      <td>0.0</td>\n",
              "      <td>0.0</td>\n",
              "      <td>0.0</td>\n",
              "      <td>0.0</td>\n",
              "      <td>0.0</td>\n",
              "    </tr>\n",
              "    <tr>\n",
              "      <th>2</th>\n",
              "      <td>0.0</td>\n",
              "      <td>0.0</td>\n",
              "      <td>0.0</td>\n",
              "      <td>0.0</td>\n",
              "      <td>0.0</td>\n",
              "      <td>0.0</td>\n",
              "      <td>0.0</td>\n",
              "      <td>0.0</td>\n",
              "      <td>0.0</td>\n",
              "      <td>0.0</td>\n",
              "      <td>...</td>\n",
              "      <td>0.0</td>\n",
              "      <td>0.0</td>\n",
              "      <td>0.0</td>\n",
              "      <td>0.0</td>\n",
              "      <td>0.0</td>\n",
              "      <td>0.0</td>\n",
              "      <td>0.0</td>\n",
              "      <td>0.0</td>\n",
              "      <td>0.0</td>\n",
              "      <td>0.0</td>\n",
              "    </tr>\n",
              "    <tr>\n",
              "      <th>3</th>\n",
              "      <td>0.0</td>\n",
              "      <td>0.0</td>\n",
              "      <td>0.0</td>\n",
              "      <td>0.0</td>\n",
              "      <td>0.0</td>\n",
              "      <td>0.0</td>\n",
              "      <td>1.0</td>\n",
              "      <td>1.0</td>\n",
              "      <td>1.0</td>\n",
              "      <td>0.0</td>\n",
              "      <td>...</td>\n",
              "      <td>0.0</td>\n",
              "      <td>0.0</td>\n",
              "      <td>0.0</td>\n",
              "      <td>0.0</td>\n",
              "      <td>0.0</td>\n",
              "      <td>0.0</td>\n",
              "      <td>0.0</td>\n",
              "      <td>0.0</td>\n",
              "      <td>0.0</td>\n",
              "      <td>0.0</td>\n",
              "    </tr>\n",
              "    <tr>\n",
              "      <th>4</th>\n",
              "      <td>0.0</td>\n",
              "      <td>0.0</td>\n",
              "      <td>0.0</td>\n",
              "      <td>0.0</td>\n",
              "      <td>0.0</td>\n",
              "      <td>0.0</td>\n",
              "      <td>0.0</td>\n",
              "      <td>0.0</td>\n",
              "      <td>0.0</td>\n",
              "      <td>0.0</td>\n",
              "      <td>...</td>\n",
              "      <td>0.0</td>\n",
              "      <td>0.0</td>\n",
              "      <td>0.0</td>\n",
              "      <td>0.0</td>\n",
              "      <td>0.0</td>\n",
              "      <td>0.0</td>\n",
              "      <td>0.0</td>\n",
              "      <td>0.0</td>\n",
              "      <td>0.0</td>\n",
              "      <td>0.0</td>\n",
              "    </tr>\n",
              "  </tbody>\n",
              "</table>\n",
              "<p>5 rows × 178423 columns</p>\n",
              "</div>\n",
              "      <button class=\"colab-df-convert\" onclick=\"convertToInteractive('df-914184f5-fa12-4ce7-8ba4-4171d8886fd6')\"\n",
              "              title=\"Convert this dataframe to an interactive table.\"\n",
              "              style=\"display:none;\">\n",
              "        \n",
              "  <svg xmlns=\"http://www.w3.org/2000/svg\" height=\"24px\"viewBox=\"0 0 24 24\"\n",
              "       width=\"24px\">\n",
              "    <path d=\"M0 0h24v24H0V0z\" fill=\"none\"/>\n",
              "    <path d=\"M18.56 5.44l.94 2.06.94-2.06 2.06-.94-2.06-.94-.94-2.06-.94 2.06-2.06.94zm-11 1L8.5 8.5l.94-2.06 2.06-.94-2.06-.94L8.5 2.5l-.94 2.06-2.06.94zm10 10l.94 2.06.94-2.06 2.06-.94-2.06-.94-.94-2.06-.94 2.06-2.06.94z\"/><path d=\"M17.41 7.96l-1.37-1.37c-.4-.4-.92-.59-1.43-.59-.52 0-1.04.2-1.43.59L10.3 9.45l-7.72 7.72c-.78.78-.78 2.05 0 2.83L4 21.41c.39.39.9.59 1.41.59.51 0 1.02-.2 1.41-.59l7.78-7.78 2.81-2.81c.8-.78.8-2.07 0-2.86zM5.41 20L4 18.59l7.72-7.72 1.47 1.35L5.41 20z\"/>\n",
              "  </svg>\n",
              "      </button>\n",
              "      \n",
              "  <style>\n",
              "    .colab-df-container {\n",
              "      display:flex;\n",
              "      flex-wrap:wrap;\n",
              "      gap: 12px;\n",
              "    }\n",
              "\n",
              "    .colab-df-convert {\n",
              "      background-color: #E8F0FE;\n",
              "      border: none;\n",
              "      border-radius: 50%;\n",
              "      cursor: pointer;\n",
              "      display: none;\n",
              "      fill: #1967D2;\n",
              "      height: 32px;\n",
              "      padding: 0 0 0 0;\n",
              "      width: 32px;\n",
              "    }\n",
              "\n",
              "    .colab-df-convert:hover {\n",
              "      background-color: #E2EBFA;\n",
              "      box-shadow: 0px 1px 2px rgba(60, 64, 67, 0.3), 0px 1px 3px 1px rgba(60, 64, 67, 0.15);\n",
              "      fill: #174EA6;\n",
              "    }\n",
              "\n",
              "    [theme=dark] .colab-df-convert {\n",
              "      background-color: #3B4455;\n",
              "      fill: #D2E3FC;\n",
              "    }\n",
              "\n",
              "    [theme=dark] .colab-df-convert:hover {\n",
              "      background-color: #434B5C;\n",
              "      box-shadow: 0px 1px 3px 1px rgba(0, 0, 0, 0.15);\n",
              "      filter: drop-shadow(0px 1px 2px rgba(0, 0, 0, 0.3));\n",
              "      fill: #FFFFFF;\n",
              "    }\n",
              "  </style>\n",
              "\n",
              "      <script>\n",
              "        const buttonEl =\n",
              "          document.querySelector('#df-914184f5-fa12-4ce7-8ba4-4171d8886fd6 button.colab-df-convert');\n",
              "        buttonEl.style.display =\n",
              "          google.colab.kernel.accessAllowed ? 'block' : 'none';\n",
              "\n",
              "        async function convertToInteractive(key) {\n",
              "          const element = document.querySelector('#df-914184f5-fa12-4ce7-8ba4-4171d8886fd6');\n",
              "          const dataTable =\n",
              "            await google.colab.kernel.invokeFunction('convertToInteractive',\n",
              "                                                     [key], {});\n",
              "          if (!dataTable) return;\n",
              "\n",
              "          const docLinkHtml = 'Like what you see? Visit the ' +\n",
              "            '<a target=\"_blank\" href=https://colab.research.google.com/notebooks/data_table.ipynb>data table notebook</a>'\n",
              "            + ' to learn more about interactive tables.';\n",
              "          element.innerHTML = '';\n",
              "          dataTable['output_type'] = 'display_data';\n",
              "          await google.colab.output.renderOutput(dataTable, element);\n",
              "          const docLink = document.createElement('div');\n",
              "          docLink.innerHTML = docLinkHtml;\n",
              "          element.appendChild(docLink);\n",
              "        }\n",
              "      </script>\n",
              "    </div>\n",
              "  </div>\n",
              "  "
            ]
          },
          "metadata": {},
          "execution_count": 64
        }
      ],
      "source": [
        "df_track_features.head()"
      ]
    },
    {
      "cell_type": "code",
      "execution_count": 14,
      "metadata": {
        "id": "HyEDHzg5Ejbw"
      },
      "outputs": [],
      "source": [
        "# de-mean the data (normalize by each users mean) and convert it from a dataframe to a numpy array.\n",
        "R = df_track_features.values\n",
        "user_listen_mean = np.mean(R, axis = 1)\n",
        "R_demeaned = R - user_listen_mean.reshape(-1, 1)"
      ]
    },
    {
      "cell_type": "markdown",
      "source": [
        "Singular Value Decomposition"
      ],
      "metadata": {
        "id": "ZDZZX2ZFZoFU"
      }
    },
    {
      "cell_type": "code",
      "execution_count": 15,
      "metadata": {
        "id": "sIdksEqfEjbw"
      },
      "outputs": [],
      "source": [
        "# Singular value decomposition is implemented by  properly formatting and normalizing the mean of listen_count \n",
        "from scipy.sparse.linalg import svds\n",
        "U, sigma, Vt = svds(R_demeaned,k=50)\n",
        "#Scipy function (svds) lets to choose required no of latent factors that can approximate the original listen_count matrix "
      ]
    },
    {
      "cell_type": "code",
      "execution_count": 16,
      "metadata": {
        "id": "rLMvJRUlEjbx"
      },
      "outputs": [],
      "source": [
        "# Sigma$ returns the values instead of a diagonal matrix so convert it into diagonal matrix form.\n",
        "sigma = np.diag(sigma)"
      ]
    },
    {
      "cell_type": "markdown",
      "source": [
        "Making Predictions from the Decomposed Matrices\n"
      ],
      "metadata": {
        "id": "EB0usdoIaZh5"
      }
    },
    {
      "cell_type": "code",
      "execution_count": 17,
      "metadata": {
        "id": "Uj7syF37Ejbx"
      },
      "outputs": [],
      "source": [
        "all_user_pred_listen_count = np.dot(np.dot(U, sigma), Vt) + user_listen_mean.reshape(-1, 1)"
      ]
    },
    {
      "cell_type": "code",
      "execution_count": 18,
      "metadata": {
        "colab": {
          "base_uri": "https://localhost:8080/",
          "height": 299
        },
        "id": "B9-iDVcoEjbx",
        "outputId": "375488ca-9c2e-4113-dbe2-2441ebe249bc"
      },
      "outputs": [
        {
          "output_type": "execute_result",
          "data": {
            "text/plain": [
              "track_id    0         1         2         3         4         5       \\\n",
              "0         0.003245  0.003245  0.003245  0.002982  0.003245  0.003245   \n",
              "1         0.005128  0.005128  0.005128  0.005555  0.005128  0.005128   \n",
              "2         0.000018  0.000018  0.000018  0.000017  0.000018  0.000018   \n",
              "3        -0.000573 -0.000573 -0.000573 -0.001284 -0.000573 -0.000573   \n",
              "4         0.002690  0.002690  0.002690  0.002027  0.002690  0.002690   \n",
              "\n",
              "track_id    6         7         8         9       ...    178413    178414  \\\n",
              "0         0.006831  0.004071  0.002821  0.003606  ...  0.003730  0.003306   \n",
              "1         0.007122  0.007473  0.004474  0.004442  ...  0.004875  0.004836   \n",
              "2         0.000014  0.000012  0.000017  0.000018  ...  0.000018  0.000018   \n",
              "3         1.003841  1.001299  1.005950  0.000177  ...  0.001305  0.000154   \n",
              "4         0.002736  0.005086  0.005661  0.003324  ...  0.004378  0.003191   \n",
              "\n",
              "track_id    178415    178416    178417    178418    178419    178420  \\\n",
              "0         0.003428  0.003180  0.003306  0.003838  0.001866  0.003482   \n",
              "1         0.004598  0.004283  0.004836  0.004562  0.002611  0.004670   \n",
              "2         0.000018  0.000017  0.000018  0.000018  0.000011  0.000018   \n",
              "3        -0.000494  0.000116  0.000154 -0.001003  0.000026 -0.000097   \n",
              "4         0.002936  0.002964  0.003191  0.004642  0.001404  0.003221   \n",
              "\n",
              "track_id    178421    178422  \n",
              "0         0.003471  0.003511  \n",
              "1         0.004992  0.004625  \n",
              "2         0.000018  0.000018  \n",
              "3        -0.000083 -0.000669  \n",
              "4         0.003504  0.003105  \n",
              "\n",
              "[5 rows x 178423 columns]"
            ],
            "text/html": [
              "\n",
              "  <div id=\"df-d0bca2d8-4e25-4bf1-9f90-93a1f0fafad5\">\n",
              "    <div class=\"colab-df-container\">\n",
              "      <div>\n",
              "<style scoped>\n",
              "    .dataframe tbody tr th:only-of-type {\n",
              "        vertical-align: middle;\n",
              "    }\n",
              "\n",
              "    .dataframe tbody tr th {\n",
              "        vertical-align: top;\n",
              "    }\n",
              "\n",
              "    .dataframe thead th {\n",
              "        text-align: right;\n",
              "    }\n",
              "</style>\n",
              "<table border=\"1\" class=\"dataframe\">\n",
              "  <thead>\n",
              "    <tr style=\"text-align: right;\">\n",
              "      <th>track_id</th>\n",
              "      <th>0</th>\n",
              "      <th>1</th>\n",
              "      <th>2</th>\n",
              "      <th>3</th>\n",
              "      <th>4</th>\n",
              "      <th>5</th>\n",
              "      <th>6</th>\n",
              "      <th>7</th>\n",
              "      <th>8</th>\n",
              "      <th>9</th>\n",
              "      <th>...</th>\n",
              "      <th>178413</th>\n",
              "      <th>178414</th>\n",
              "      <th>178415</th>\n",
              "      <th>178416</th>\n",
              "      <th>178417</th>\n",
              "      <th>178418</th>\n",
              "      <th>178419</th>\n",
              "      <th>178420</th>\n",
              "      <th>178421</th>\n",
              "      <th>178422</th>\n",
              "    </tr>\n",
              "  </thead>\n",
              "  <tbody>\n",
              "    <tr>\n",
              "      <th>0</th>\n",
              "      <td>0.003245</td>\n",
              "      <td>0.003245</td>\n",
              "      <td>0.003245</td>\n",
              "      <td>0.002982</td>\n",
              "      <td>0.003245</td>\n",
              "      <td>0.003245</td>\n",
              "      <td>0.006831</td>\n",
              "      <td>0.004071</td>\n",
              "      <td>0.002821</td>\n",
              "      <td>0.003606</td>\n",
              "      <td>...</td>\n",
              "      <td>0.003730</td>\n",
              "      <td>0.003306</td>\n",
              "      <td>0.003428</td>\n",
              "      <td>0.003180</td>\n",
              "      <td>0.003306</td>\n",
              "      <td>0.003838</td>\n",
              "      <td>0.001866</td>\n",
              "      <td>0.003482</td>\n",
              "      <td>0.003471</td>\n",
              "      <td>0.003511</td>\n",
              "    </tr>\n",
              "    <tr>\n",
              "      <th>1</th>\n",
              "      <td>0.005128</td>\n",
              "      <td>0.005128</td>\n",
              "      <td>0.005128</td>\n",
              "      <td>0.005555</td>\n",
              "      <td>0.005128</td>\n",
              "      <td>0.005128</td>\n",
              "      <td>0.007122</td>\n",
              "      <td>0.007473</td>\n",
              "      <td>0.004474</td>\n",
              "      <td>0.004442</td>\n",
              "      <td>...</td>\n",
              "      <td>0.004875</td>\n",
              "      <td>0.004836</td>\n",
              "      <td>0.004598</td>\n",
              "      <td>0.004283</td>\n",
              "      <td>0.004836</td>\n",
              "      <td>0.004562</td>\n",
              "      <td>0.002611</td>\n",
              "      <td>0.004670</td>\n",
              "      <td>0.004992</td>\n",
              "      <td>0.004625</td>\n",
              "    </tr>\n",
              "    <tr>\n",
              "      <th>2</th>\n",
              "      <td>0.000018</td>\n",
              "      <td>0.000018</td>\n",
              "      <td>0.000018</td>\n",
              "      <td>0.000017</td>\n",
              "      <td>0.000018</td>\n",
              "      <td>0.000018</td>\n",
              "      <td>0.000014</td>\n",
              "      <td>0.000012</td>\n",
              "      <td>0.000017</td>\n",
              "      <td>0.000018</td>\n",
              "      <td>...</td>\n",
              "      <td>0.000018</td>\n",
              "      <td>0.000018</td>\n",
              "      <td>0.000018</td>\n",
              "      <td>0.000017</td>\n",
              "      <td>0.000018</td>\n",
              "      <td>0.000018</td>\n",
              "      <td>0.000011</td>\n",
              "      <td>0.000018</td>\n",
              "      <td>0.000018</td>\n",
              "      <td>0.000018</td>\n",
              "    </tr>\n",
              "    <tr>\n",
              "      <th>3</th>\n",
              "      <td>-0.000573</td>\n",
              "      <td>-0.000573</td>\n",
              "      <td>-0.000573</td>\n",
              "      <td>-0.001284</td>\n",
              "      <td>-0.000573</td>\n",
              "      <td>-0.000573</td>\n",
              "      <td>1.003841</td>\n",
              "      <td>1.001299</td>\n",
              "      <td>1.005950</td>\n",
              "      <td>0.000177</td>\n",
              "      <td>...</td>\n",
              "      <td>0.001305</td>\n",
              "      <td>0.000154</td>\n",
              "      <td>-0.000494</td>\n",
              "      <td>0.000116</td>\n",
              "      <td>0.000154</td>\n",
              "      <td>-0.001003</td>\n",
              "      <td>0.000026</td>\n",
              "      <td>-0.000097</td>\n",
              "      <td>-0.000083</td>\n",
              "      <td>-0.000669</td>\n",
              "    </tr>\n",
              "    <tr>\n",
              "      <th>4</th>\n",
              "      <td>0.002690</td>\n",
              "      <td>0.002690</td>\n",
              "      <td>0.002690</td>\n",
              "      <td>0.002027</td>\n",
              "      <td>0.002690</td>\n",
              "      <td>0.002690</td>\n",
              "      <td>0.002736</td>\n",
              "      <td>0.005086</td>\n",
              "      <td>0.005661</td>\n",
              "      <td>0.003324</td>\n",
              "      <td>...</td>\n",
              "      <td>0.004378</td>\n",
              "      <td>0.003191</td>\n",
              "      <td>0.002936</td>\n",
              "      <td>0.002964</td>\n",
              "      <td>0.003191</td>\n",
              "      <td>0.004642</td>\n",
              "      <td>0.001404</td>\n",
              "      <td>0.003221</td>\n",
              "      <td>0.003504</td>\n",
              "      <td>0.003105</td>\n",
              "    </tr>\n",
              "  </tbody>\n",
              "</table>\n",
              "<p>5 rows × 178423 columns</p>\n",
              "</div>\n",
              "      <button class=\"colab-df-convert\" onclick=\"convertToInteractive('df-d0bca2d8-4e25-4bf1-9f90-93a1f0fafad5')\"\n",
              "              title=\"Convert this dataframe to an interactive table.\"\n",
              "              style=\"display:none;\">\n",
              "        \n",
              "  <svg xmlns=\"http://www.w3.org/2000/svg\" height=\"24px\"viewBox=\"0 0 24 24\"\n",
              "       width=\"24px\">\n",
              "    <path d=\"M0 0h24v24H0V0z\" fill=\"none\"/>\n",
              "    <path d=\"M18.56 5.44l.94 2.06.94-2.06 2.06-.94-2.06-.94-.94-2.06-.94 2.06-2.06.94zm-11 1L8.5 8.5l.94-2.06 2.06-.94-2.06-.94L8.5 2.5l-.94 2.06-2.06.94zm10 10l.94 2.06.94-2.06 2.06-.94-2.06-.94-.94-2.06-.94 2.06-2.06.94z\"/><path d=\"M17.41 7.96l-1.37-1.37c-.4-.4-.92-.59-1.43-.59-.52 0-1.04.2-1.43.59L10.3 9.45l-7.72 7.72c-.78.78-.78 2.05 0 2.83L4 21.41c.39.39.9.59 1.41.59.51 0 1.02-.2 1.41-.59l7.78-7.78 2.81-2.81c.8-.78.8-2.07 0-2.86zM5.41 20L4 18.59l7.72-7.72 1.47 1.35L5.41 20z\"/>\n",
              "  </svg>\n",
              "      </button>\n",
              "      \n",
              "  <style>\n",
              "    .colab-df-container {\n",
              "      display:flex;\n",
              "      flex-wrap:wrap;\n",
              "      gap: 12px;\n",
              "    }\n",
              "\n",
              "    .colab-df-convert {\n",
              "      background-color: #E8F0FE;\n",
              "      border: none;\n",
              "      border-radius: 50%;\n",
              "      cursor: pointer;\n",
              "      display: none;\n",
              "      fill: #1967D2;\n",
              "      height: 32px;\n",
              "      padding: 0 0 0 0;\n",
              "      width: 32px;\n",
              "    }\n",
              "\n",
              "    .colab-df-convert:hover {\n",
              "      background-color: #E2EBFA;\n",
              "      box-shadow: 0px 1px 2px rgba(60, 64, 67, 0.3), 0px 1px 3px 1px rgba(60, 64, 67, 0.15);\n",
              "      fill: #174EA6;\n",
              "    }\n",
              "\n",
              "    [theme=dark] .colab-df-convert {\n",
              "      background-color: #3B4455;\n",
              "      fill: #D2E3FC;\n",
              "    }\n",
              "\n",
              "    [theme=dark] .colab-df-convert:hover {\n",
              "      background-color: #434B5C;\n",
              "      box-shadow: 0px 1px 3px 1px rgba(0, 0, 0, 0.15);\n",
              "      filter: drop-shadow(0px 1px 2px rgba(0, 0, 0, 0.3));\n",
              "      fill: #FFFFFF;\n",
              "    }\n",
              "  </style>\n",
              "\n",
              "      <script>\n",
              "        const buttonEl =\n",
              "          document.querySelector('#df-d0bca2d8-4e25-4bf1-9f90-93a1f0fafad5 button.colab-df-convert');\n",
              "        buttonEl.style.display =\n",
              "          google.colab.kernel.accessAllowed ? 'block' : 'none';\n",
              "\n",
              "        async function convertToInteractive(key) {\n",
              "          const element = document.querySelector('#df-d0bca2d8-4e25-4bf1-9f90-93a1f0fafad5');\n",
              "          const dataTable =\n",
              "            await google.colab.kernel.invokeFunction('convertToInteractive',\n",
              "                                                     [key], {});\n",
              "          if (!dataTable) return;\n",
              "\n",
              "          const docLinkHtml = 'Like what you see? Visit the ' +\n",
              "            '<a target=\"_blank\" href=https://colab.research.google.com/notebooks/data_table.ipynb>data table notebook</a>'\n",
              "            + ' to learn more about interactive tables.';\n",
              "          element.innerHTML = '';\n",
              "          dataTable['output_type'] = 'display_data';\n",
              "          await google.colab.output.renderOutput(dataTable, element);\n",
              "          const docLink = document.createElement('div');\n",
              "          docLink.innerHTML = docLinkHtml;\n",
              "          element.appendChild(docLink);\n",
              "        }\n",
              "      </script>\n",
              "    </div>\n",
              "  </div>\n",
              "  "
            ]
          },
          "metadata": {},
          "execution_count": 18
        }
      ],
      "source": [
        "preds_df = pd.DataFrame(all_user_pred_listen_count , columns = df_track_features.columns)\n",
        "preds_df.head()"
      ]
    },
    {
      "cell_type": "markdown",
      "source": [
        "# 1. Making Music and User Recommendations by predicting the listen count of the track by the user and then recommending the tracks that user has not listened using **SVD approach**\n"
      ],
      "metadata": {
        "id": "72CzS9lob0B5"
      }
    },
    {
      "cell_type": "code",
      "execution_count": 19,
      "metadata": {
        "id": "WJY9czNEEjby"
      },
      "outputs": [],
      "source": [
        "def recommend_music(preds_df, user_id, df_track, df_listen_track, num_recommendations=5):\n",
        "    \n",
        "    # Get and sort the user's predictions\n",
        "    user_row_number = user_id  # UserID starts at 0\n",
        "    sorted_user_predictions = preds_df.iloc[user_row_number].sort_values(ascending=False) \n",
        "\n",
        "    # Get the user's data and merge in the music information.\n",
        "    user_data = df_listen_track[df_listen_track.user_id == (user_id)]\n",
        "    user_full = (user_data.merge(df_track, how = 'left', left_on = 'track_id', right_on = 'track_id').\n",
        "                     sort_values(['listen_count'], ascending=False)\n",
        "                 )\n",
        "\n",
        "    # Recommend the highest predicted listen count music that the user hasn't listened yet.\n",
        "    recommendations = (df_track[~df_track['track_id'].isin(user_full['track_id'])]).merge(pd.DataFrame(sorted_user_predictions).reset_index(), \n",
        "                        how = 'left', \n",
        "                        left_on = 'track_id',\n",
        "                        right_on = 'track_id').rename(columns = {user_row_number: 'Predictions'}).sort_values('Predictions', ascending = False).iloc[:num_recommendations, :-1]\n",
        "                      \n",
        "\n",
        "    return user_full, recommendations"
      ]
    },
    {
      "cell_type": "code",
      "execution_count": null,
      "metadata": {
        "id": "j5rDzhXsEjby"
      },
      "outputs": [],
      "source": [
        "already_listened, predictions = recommend_music(preds_df, 330,df_track, df_listen_track, 10)"
      ]
    },
    {
      "cell_type": "code",
      "execution_count": null,
      "metadata": {
        "colab": {
          "base_uri": "https://localhost:8080/"
        },
        "id": "TrzkeExXEjbz",
        "outputId": "66f78d96-a178-48d6-ed76-0b2b176586a9"
      },
      "outputs": [
        {
          "output_type": "stream",
          "name": "stdout",
          "text": [
            "Tracks that are already listened by the user      user_id  track_id  listen_count  \\\n",
            "636      330     75407            30   \n",
            "647      330     75418            27   \n",
            "706      330    108752            21   \n",
            "707      330    108752            21   \n",
            "664      330     80385            20   \n",
            "\n",
            "                                       artist_track  \n",
            "636                        Johnny Hollow_Nova Heart  \n",
            "647                      Johnny Hollow_Worse Things  \n",
            "706  Opeth_Face Of Melinda (Live At The Roundhouse)  \n",
            "707  Opeth_Face Of Melinda (Live At The Roundhouse)  \n",
            "664             Kings Of Convenience_Parallel Lines  \n"
          ]
        }
      ],
      "source": [
        "# tracks the user has already listened\n",
        "print(\"Tracks that are already listened by the user\",already_listened.head())"
      ]
    },
    {
      "cell_type": "markdown",
      "source": [
        "Music Recommendation\n"
      ],
      "metadata": {
        "id": "G3iDZIpWebxa"
      }
    },
    {
      "cell_type": "code",
      "execution_count": null,
      "metadata": {
        "colab": {
          "base_uri": "https://localhost:8080/"
        },
        "id": "_8WeAwxAEjbz",
        "outputId": "7732bc0e-4663-459c-cf3f-1dbd685f85a1"
      },
      "outputs": [
        {
          "output_type": "stream",
          "name": "stdout",
          "text": [
            "Recommended Track and Artist Information                                      artist_track  track_id\n",
            "14665              Judas Priest_Diamonds And Rust     76536\n",
            "128211             Judas Priest_Diamonds And Rust     76536\n",
            "262999  Emilie Autumn_Liar (Manic Depressive Mix)     48419\n",
            "11473   Emilie Autumn_Liar (Manic Depressive Mix)     48419\n",
            "70790                      The Long Blondes_Guilt    153486\n",
            "57301                      The Long Blondes_Guilt    153486\n",
            "28950                      The Long Blondes_Guilt    153486\n",
            "39810                      The Long Blondes_Guilt    153486\n",
            "38048                      The Long Blondes_Guilt    153486\n",
            "192850                     The Long Blondes_Guilt    153486\n"
          ]
        }
      ],
      "source": [
        "# recommending the tracks based on the given user_id\n",
        "print(\"Recommended Track and Artist Information\",predictions)"
      ]
    },
    {
      "cell_type": "code",
      "execution_count": null,
      "metadata": {
        "id": "-oGFJPaEEjbz",
        "colab": {
          "base_uri": "https://localhost:8080/"
        },
        "outputId": "e98e708f-4cd0-4303-d400-90f117e3a055"
      },
      "outputs": [
        {
          "output_type": "stream",
          "name": "stdout",
          "text": [
            "recommended track id's [ 76536  48419 153486]\n"
          ]
        }
      ],
      "source": [
        "# print the recommended unique track id's to the user\n",
        "k=predictions.track_id.unique()\n",
        "print(\"recommended track id's\",k)"
      ]
    },
    {
      "cell_type": "markdown",
      "source": [
        "User Recommendation"
      ],
      "metadata": {
        "id": "ScZw9H2xeiNs"
      }
    },
    {
      "cell_type": "code",
      "execution_count": null,
      "metadata": {
        "colab": {
          "base_uri": "https://localhost:8080/"
        },
        "id": "LZ6qtalPEjb0",
        "outputId": "c256b3cd-1b4a-46a0-e651-fa765c655ce6"
      },
      "outputs": [
        {
          "output_type": "stream",
          "name": "stdout",
          "text": [
            "User Recommendation [ 32  39  58  81  84 125 134 163 230 297 410 563]\n"
          ]
        }
      ],
      "source": [
        "# Recommend the users by using the recommended tracks, i.e retrieving the user information from the recommended songs and then recommending the users to the given user\n",
        "df2=df_listen_track.loc[df_listen_track['track_id'].isin(k),'user_id'].unique()\n",
        "print(\"User Recommendation\",df2)"
      ]
    },
    {
      "cell_type": "code",
      "execution_count": null,
      "metadata": {
        "colab": {
          "base_uri": "https://localhost:8080/",
          "height": 112
        },
        "id": "P-0x2hVAEjb0",
        "outputId": "ddcfad28-6a3c-415c-feb4-1d96abe1d1f2"
      },
      "outputs": [
        {
          "output_type": "execute_result",
          "data": {
            "text/plain": [
              "        user_id  track_id  listen_count\n",
              "14700        39     76536             1\n",
              "128458      297     76536            83"
            ],
            "text/html": [
              "\n",
              "  <div id=\"df-04d1ce0c-1cd2-4c3e-b460-fcb24251c04a\">\n",
              "    <div class=\"colab-df-container\">\n",
              "      <div>\n",
              "<style scoped>\n",
              "    .dataframe tbody tr th:only-of-type {\n",
              "        vertical-align: middle;\n",
              "    }\n",
              "\n",
              "    .dataframe tbody tr th {\n",
              "        vertical-align: top;\n",
              "    }\n",
              "\n",
              "    .dataframe thead th {\n",
              "        text-align: right;\n",
              "    }\n",
              "</style>\n",
              "<table border=\"1\" class=\"dataframe\">\n",
              "  <thead>\n",
              "    <tr style=\"text-align: right;\">\n",
              "      <th></th>\n",
              "      <th>user_id</th>\n",
              "      <th>track_id</th>\n",
              "      <th>listen_count</th>\n",
              "    </tr>\n",
              "  </thead>\n",
              "  <tbody>\n",
              "    <tr>\n",
              "      <th>14700</th>\n",
              "      <td>39</td>\n",
              "      <td>76536</td>\n",
              "      <td>1</td>\n",
              "    </tr>\n",
              "    <tr>\n",
              "      <th>128458</th>\n",
              "      <td>297</td>\n",
              "      <td>76536</td>\n",
              "      <td>83</td>\n",
              "    </tr>\n",
              "  </tbody>\n",
              "</table>\n",
              "</div>\n",
              "      <button class=\"colab-df-convert\" onclick=\"convertToInteractive('df-04d1ce0c-1cd2-4c3e-b460-fcb24251c04a')\"\n",
              "              title=\"Convert this dataframe to an interactive table.\"\n",
              "              style=\"display:none;\">\n",
              "        \n",
              "  <svg xmlns=\"http://www.w3.org/2000/svg\" height=\"24px\"viewBox=\"0 0 24 24\"\n",
              "       width=\"24px\">\n",
              "    <path d=\"M0 0h24v24H0V0z\" fill=\"none\"/>\n",
              "    <path d=\"M18.56 5.44l.94 2.06.94-2.06 2.06-.94-2.06-.94-.94-2.06-.94 2.06-2.06.94zm-11 1L8.5 8.5l.94-2.06 2.06-.94-2.06-.94L8.5 2.5l-.94 2.06-2.06.94zm10 10l.94 2.06.94-2.06 2.06-.94-2.06-.94-.94-2.06-.94 2.06-2.06.94z\"/><path d=\"M17.41 7.96l-1.37-1.37c-.4-.4-.92-.59-1.43-.59-.52 0-1.04.2-1.43.59L10.3 9.45l-7.72 7.72c-.78.78-.78 2.05 0 2.83L4 21.41c.39.39.9.59 1.41.59.51 0 1.02-.2 1.41-.59l7.78-7.78 2.81-2.81c.8-.78.8-2.07 0-2.86zM5.41 20L4 18.59l7.72-7.72 1.47 1.35L5.41 20z\"/>\n",
              "  </svg>\n",
              "      </button>\n",
              "      \n",
              "  <style>\n",
              "    .colab-df-container {\n",
              "      display:flex;\n",
              "      flex-wrap:wrap;\n",
              "      gap: 12px;\n",
              "    }\n",
              "\n",
              "    .colab-df-convert {\n",
              "      background-color: #E8F0FE;\n",
              "      border: none;\n",
              "      border-radius: 50%;\n",
              "      cursor: pointer;\n",
              "      display: none;\n",
              "      fill: #1967D2;\n",
              "      height: 32px;\n",
              "      padding: 0 0 0 0;\n",
              "      width: 32px;\n",
              "    }\n",
              "\n",
              "    .colab-df-convert:hover {\n",
              "      background-color: #E2EBFA;\n",
              "      box-shadow: 0px 1px 2px rgba(60, 64, 67, 0.3), 0px 1px 3px 1px rgba(60, 64, 67, 0.15);\n",
              "      fill: #174EA6;\n",
              "    }\n",
              "\n",
              "    [theme=dark] .colab-df-convert {\n",
              "      background-color: #3B4455;\n",
              "      fill: #D2E3FC;\n",
              "    }\n",
              "\n",
              "    [theme=dark] .colab-df-convert:hover {\n",
              "      background-color: #434B5C;\n",
              "      box-shadow: 0px 1px 3px 1px rgba(0, 0, 0, 0.15);\n",
              "      filter: drop-shadow(0px 1px 2px rgba(0, 0, 0, 0.3));\n",
              "      fill: #FFFFFF;\n",
              "    }\n",
              "  </style>\n",
              "\n",
              "      <script>\n",
              "        const buttonEl =\n",
              "          document.querySelector('#df-04d1ce0c-1cd2-4c3e-b460-fcb24251c04a button.colab-df-convert');\n",
              "        buttonEl.style.display =\n",
              "          google.colab.kernel.accessAllowed ? 'block' : 'none';\n",
              "\n",
              "        async function convertToInteractive(key) {\n",
              "          const element = document.querySelector('#df-04d1ce0c-1cd2-4c3e-b460-fcb24251c04a');\n",
              "          const dataTable =\n",
              "            await google.colab.kernel.invokeFunction('convertToInteractive',\n",
              "                                                     [key], {});\n",
              "          if (!dataTable) return;\n",
              "\n",
              "          const docLinkHtml = 'Like what you see? Visit the ' +\n",
              "            '<a target=\"_blank\" href=https://colab.research.google.com/notebooks/data_table.ipynb>data table notebook</a>'\n",
              "            + ' to learn more about interactive tables.';\n",
              "          element.innerHTML = '';\n",
              "          dataTable['output_type'] = 'display_data';\n",
              "          await google.colab.output.renderOutput(dataTable, element);\n",
              "          const docLink = document.createElement('div');\n",
              "          docLink.innerHTML = docLinkHtml;\n",
              "          element.appendChild(docLink);\n",
              "        }\n",
              "      </script>\n",
              "    </div>\n",
              "  </div>\n",
              "  "
            ]
          },
          "metadata": {},
          "execution_count": 23
        }
      ],
      "source": [
        "# verifying if the recommended users listen to the songs which they recommend or not\n",
        "df_listen_track.loc[df_listen_track['track_id']==76536]"
      ]
    },
    {
      "cell_type": "code",
      "execution_count": null,
      "metadata": {
        "colab": {
          "base_uri": "https://localhost:8080/"
        },
        "id": "5rrOXJrNEjb0",
        "outputId": "18b477d7-b512-4361-e097-6566a1d614e8"
      },
      "outputs": [
        {
          "output_type": "execute_result",
          "data": {
            "text/plain": [
              "281"
            ]
          },
          "metadata": {},
          "execution_count": 24
        }
      ],
      "source": [
        "df_listen_track[\"listen_count\"].max()"
      ]
    },
    {
      "cell_type": "markdown",
      "source": [
        "# 2. Making Music and User Recommendation by implementing surprise package and binning concept with Cross-Validation Technique by using RMSE as a metric\n",
        "\n"
      ],
      "metadata": {
        "id": "pAIeGsMyfT4z"
      }
    },
    {
      "cell_type": "code",
      "execution_count": 20,
      "metadata": {
        "colab": {
          "base_uri": "https://localhost:8080/"
        },
        "id": "OvTlv4iDEjb1",
        "outputId": "ea57d82f-4403-49da-e8a5-9f1ac8693581"
      },
      "outputs": [
        {
          "output_type": "stream",
          "name": "stdout",
          "text": [
            "Collecting scikit-surprise\n",
            "  Downloading scikit-surprise-1.1.1.tar.gz (11.8 MB)\n",
            "\u001b[K     |████████████████████████████████| 11.8 MB 5.5 MB/s \n",
            "\u001b[?25hRequirement already satisfied: joblib>=0.11 in /usr/local/lib/python3.7/dist-packages (from scikit-surprise) (1.1.0)\n",
            "Requirement already satisfied: numpy>=1.11.2 in /usr/local/lib/python3.7/dist-packages (from scikit-surprise) (1.21.6)\n",
            "Requirement already satisfied: scipy>=1.0.0 in /usr/local/lib/python3.7/dist-packages (from scikit-surprise) (1.4.1)\n",
            "Requirement already satisfied: six>=1.10.0 in /usr/local/lib/python3.7/dist-packages (from scikit-surprise) (1.15.0)\n",
            "Building wheels for collected packages: scikit-surprise\n",
            "  Building wheel for scikit-surprise (setup.py) ... \u001b[?25l\u001b[?25hdone\n",
            "  Created wheel for scikit-surprise: filename=scikit_surprise-1.1.1-cp37-cp37m-linux_x86_64.whl size=1630136 sha256=e137efe11616e6050717019949c941535a4d19bb55d33885066b21d7e1edbd7b\n",
            "  Stored in directory: /root/.cache/pip/wheels/76/44/74/b498c42be47b2406bd27994e16c5188e337c657025ab400c1c\n",
            "Successfully built scikit-surprise\n",
            "Installing collected packages: scikit-surprise\n",
            "Successfully installed scikit-surprise-1.1.1\n"
          ]
        }
      ],
      "source": [
        "pip install scikit-surprise"
      ]
    },
    {
      "cell_type": "code",
      "execution_count": 65,
      "metadata": {
        "id": "jRru5wMkGrXO"
      },
      "outputs": [],
      "source": [
        "# import libraries\n",
        "from surprise import Dataset, Reader\n",
        "#Import SVD\n",
        "from surprise import SVD\n",
        "# Optimization and evaluation functions\n",
        "from surprise.model_selection import train_test_split\n",
        "from surprise.model_selection import GridSearchCV\n",
        "from surprise.model_selection import cross_validate\n",
        "from surprise import accuracy"
      ]
    },
    {
      "cell_type": "code",
      "execution_count": 66,
      "metadata": {
        "id": "PCpUk6KLHmqB"
      },
      "outputs": [],
      "source": [
        "df_listen_track. sample(n=10000)\n",
        "reader = Reader(rating_scale=(1, 10))\n",
        "\n",
        "# now we apply the binning\n",
        "data = Dataset.load_from_df(df_listen_track[['user_id', 'track_id', 'listen_count']], reader)\n",
        "\n",
        "# We'll split into the trainset and testset\n",
        "trainset, testset = train_test_split(data, test_size=.25)"
      ]
    },
    {
      "cell_type": "markdown",
      "source": [
        "Implemention of Grid Search"
      ],
      "metadata": {
        "id": "YnpPFCBG1YO-"
      }
    },
    {
      "cell_type": "code",
      "source": [
        "param_grid = {'n_factors': [120, 160], 'n_epochs': [100, 110], 'lr_all': [0.001, 0.005], 'reg_all': [0.08, 0.12]}\n",
        "              \n",
        "grid_search_svd = GridSearchCV(SVD, param_grid, measures=['rmse'], cv=3, joblib_verbose=4, n_jobs=2)\n",
        "grid_search_svd.fit(data)\n",
        "find_algo = grid_search_svd.best_estimator['rmse']\n",
        "print(grid_search_svd.best_score['rmse'])\n",
        "print(grid_search_svd.best_params['rmse'])"
      ],
      "metadata": {
        "colab": {
          "base_uri": "https://localhost:8080/"
        },
        "id": "qbPuVStB1oNo",
        "outputId": "6ff442e3-b77a-4863-9f43-5f6ac21bd283"
      },
      "execution_count": 67,
      "outputs": [
        {
          "output_type": "stream",
          "name": "stderr",
          "text": [
            "[Parallel(n_jobs=2)]: Using backend LokyBackend with 2 concurrent workers.\n",
            "[Parallel(n_jobs=2)]: Done  21 tasks      | elapsed: 24.3min\n"
          ]
        },
        {
          "output_type": "stream",
          "name": "stdout",
          "text": [
            "2.6787954362250077\n",
            "{'n_factors': 160, 'n_epochs': 110, 'lr_all': 0.001, 'reg_all': 0.08}\n"
          ]
        },
        {
          "output_type": "stream",
          "name": "stderr",
          "text": [
            "[Parallel(n_jobs=2)]: Done  48 out of  48 | elapsed: 58.4min finished\n"
          ]
        }
      ]
    },
    {
      "cell_type": "markdown",
      "source": [
        "Without cross-validation- RMSE values"
      ],
      "metadata": {
        "id": "ksFe1J0e8ECY"
      }
    },
    {
      "cell_type": "code",
      "source": [
        "intial_algorithm = SVD(n_factors=160, n_epochs=110, lr_all=0.001, reg_all=0.08)\n",
        "intial_algorithm.fit(trainset)\n",
        "test_predictions = intial_algorithm.test(testset)\n",
        "print(f\"The RMSE without cross-validation is {accuracy.rmse(test_predictions, verbose=True)}\")"
      ],
      "metadata": {
        "colab": {
          "base_uri": "https://localhost:8080/"
        },
        "id": "w9rO2ldd8Cz9",
        "outputId": "cd482d60-1d43-41c6-8450-df9bfae5d86f"
      },
      "execution_count": 76,
      "outputs": [
        {
          "output_type": "stream",
          "name": "stdout",
          "text": [
            "RMSE: 3.0175\n",
            "The RMSE without cross-validation is 3.017504861006738\n"
          ]
        }
      ]
    },
    {
      "cell_type": "markdown",
      "source": [
        "With cross-validation"
      ],
      "metadata": {
        "id": "p40LpsWy8PzM"
      }
    },
    {
      "cell_type": "code",
      "source": [
        "cross_validate(find_algo, data, measures=['RMSE'], cv=3, verbose=True)"
      ],
      "metadata": {
        "colab": {
          "base_uri": "https://localhost:8080/"
        },
        "id": "sl8tVM8Yldxj",
        "outputId": "c466a06a-b67d-497e-fd87-f4f6f0cef812"
      },
      "execution_count": 80,
      "outputs": [
        {
          "output_type": "stream",
          "name": "stdout",
          "text": [
            "Evaluating RMSE of algorithm SVD on 3 split(s).\n",
            "\n",
            "                  Fold 1  Fold 2  Fold 3  Mean    Std     \n",
            "RMSE (testset)    2.5297  2.8285  2.6716  2.6766  0.1221  \n",
            "Fit time          104.02  102.59  102.88  103.17  0.62    \n",
            "Test time         0.83    1.54    0.83    1.06    0.34    \n"
          ]
        },
        {
          "output_type": "execute_result",
          "data": {
            "text/plain": [
              "{'fit_time': (104.02432751655579, 102.58983159065247, 102.88114285469055),\n",
              " 'test_rmse': array([2.52967613, 2.82852946, 2.67162498]),\n",
              " 'test_time': (0.8261687755584717, 1.5418295860290527, 0.8257262706756592)}"
            ]
          },
          "metadata": {},
          "execution_count": 80
        }
      ]
    },
    {
      "cell_type": "code",
      "source": [
        "trainset=data.build_full_trainset()"
      ],
      "metadata": {
        "id": "m8ocfAMrk0vm"
      },
      "execution_count": 81,
      "outputs": []
    },
    {
      "cell_type": "code",
      "source": [
        "final_algorithm = SVD(n_factors=120, n_epochs=110, lr_all=0.001, reg_all=0.08)\n",
        "final_algorithm.fit(trainset)\n",
        "test_predictions = final_algorithm.test(testset)\n",
        "print(f\"The RMSE with cross-validation is {accuracy.rmse(test_predictions, verbose=True)}\")"
      ],
      "metadata": {
        "colab": {
          "base_uri": "https://localhost:8080/"
        },
        "id": "YLm6srKblkc6",
        "outputId": "ae62a763-a94f-47d8-f541-46a132f07287"
      },
      "execution_count": 82,
      "outputs": [
        {
          "output_type": "stream",
          "name": "stdout",
          "text": [
            "RMSE: 2.4806\n",
            "The RMSE with cross-validation is 2.4805911263269866\n"
          ]
        }
      ]
    },
    {
      "cell_type": "markdown",
      "source": [
        "Predict listen_count when user_id and track_id are given\n"
      ],
      "metadata": {
        "id": "qpN7IUrvih3d"
      }
    },
    {
      "cell_type": "code",
      "source": [
        "final_algorithm.predict(uid=10, iid=100)\n"
      ],
      "metadata": {
        "colab": {
          "base_uri": "https://localhost:8080/"
        },
        "id": "04DXa5i5FOu6",
        "outputId": "9126b02c-3fe3-4f2e-f5d4-a041f1579b10"
      },
      "execution_count": 83,
      "outputs": [
        {
          "output_type": "execute_result",
          "data": {
            "text/plain": [
              "Prediction(uid=10, iid=100, r_ui=None, est=3.255975963130763, details={'was_impossible': False})"
            ]
          },
          "metadata": {},
          "execution_count": 83
        }
      ]
    },
    {
      "cell_type": "markdown",
      "source": [
        "Recommendation Algorithm"
      ],
      "metadata": {
        "id": "ILVaUcRnBkpA"
      }
    },
    {
      "cell_type": "code",
      "source": [
        "def merged_info(x, y):\n",
        "    z = x.copy()   # start with keys and values of x\n",
        "    z.update(y)    # modifies z with keys and values of y\n",
        "    return z"
      ],
      "metadata": {
        "id": "lQz08lj7Tgmh"
      },
      "execution_count": 84,
      "outputs": []
    },
    {
      "cell_type": "code",
      "source": [
        "import difflib\n",
        "import random\n",
        "\n",
        "def get_track_id(artist_track, df_track):\n",
        "    \n",
        "    \"\"\"\n",
        "    Gets the track ID for an artist_track based on the closest match in the df_track dataframe.\n",
        "    \"\"\"\n",
        "    \n",
        "    existing_tracks = list(df_track['artist_track'].values) # list of existing track titles\n",
        "    closest_tracks = difflib.get_close_matches(artist_track, existing_tracks) # compare the given and existing track titles and retrieves the existing track titles that are similar to given track titles.\n",
        "    track_id = df_track[df_track['artist_track'] == closest_tracks[0]]['track_id'].values[0] # retrieves the track_id of the given track title\n",
        "    return track_id\n",
        "\n",
        "def get_track_info(ptrack_id, df_track,df_listen_track):\n",
        "    \n",
        "    \"\"\"\n",
        "    Returns some basic information about a track given the track id and the df_listen_track dataframe.\n",
        "    \"\"\"\n",
        "    \n",
        "    track_info = df_track[df_track['track_id'] == ptrack_id][['track_id', 'artist_track']] # retrives the track title when a track_id is given\n",
        "\n",
        "    user_id_info=df_listen_track[df_listen_track['track_id'] == ptrack_id][['user_id']] # retrieves the user_id when a track_id is given, i.e lists the users who have listened to the given track_id\n",
        "\n",
        "    merged=merged_info(track_info.to_dict(), user_id_info.to_dict()) # stores the track_id, user_id\n",
        "                                                                                             \n",
        "    return merged\n",
        "\n",
        "def predict_listen(user_id, artist_track, model, df_track):\n",
        "    \n",
        "    \"\"\"\n",
        "    Predicts the listen_count value that a user would assign to a specific artist_track. \n",
        "    \"\"\"\n",
        "    \n",
        "    track_id = get_track_id(artist_track, df_track) # retrieves track_id when track_title is given\n",
        "    review_prediction = model.predict(uid=user_id, iid=track_id) # predicts listen_count for the given track_id for a user_id\n",
        "    return review_prediction.est # returns predictions of listen_count of the track_id for a specific user_id\n",
        "\n",
        "def generate_recommendation(user_id, model, df_track, df_listen_count,thresh=4):\n",
        "    \n",
        "    \"\"\"\n",
        "    Generates a music recommendation for a user based on a listen_count threshold. Only\n",
        "    tracks with a predicted listen_count at or above the threshold will be recommended\n",
        "    \"\"\"\n",
        "    \n",
        "    artist_tracks = list(df_track['artist_track'].values) # retrives a list of track_titles\n",
        "    random.shuffle(artist_tracks) # shuffles the track_titles\n",
        "    \n",
        "    for artist_track in artist_tracks: # for every track\n",
        "        listen_count_preds = predict_listen(user_id, artist_track, model, df_track)  # predicts the listen_count for a track when a user_id is given\n",
        "        if listen_count_preds >= thresh: # recommends the track only when the predicted listen count is greater than the threshold listen_count\n",
        "            track_id = get_track_id(artist_track, df_track) # retrieves the track_id to recommend the track\n",
        "            return get_track_info(track_id, df_track,df_listen_track) # retrieves the recommended track_title, track_id and user_id\n"
      ],
      "metadata": {
        "id": "OUTpuD4dDGNE"
      },
      "execution_count": 85,
      "outputs": []
    },
    {
      "cell_type": "markdown",
      "source": [
        "Music and User Recommendations with given threshold value"
      ],
      "metadata": {
        "id": "VzOgPmhRBpoW"
      }
    },
    {
      "cell_type": "code",
      "source": [
        "generate_recommendation(330, final_algorithm, df_track,df_listen_track,thresh=8)"
      ],
      "metadata": {
        "colab": {
          "base_uri": "https://localhost:8080/"
        },
        "id": "-3rovYWVFNOz",
        "outputId": "cd1130c9-4e4f-4da5-f90f-bacc72de44f7"
      },
      "execution_count": 87,
      "outputs": [
        {
          "output_type": "execute_result",
          "data": {
            "text/plain": [
              "{'artist_track': {22606: 'Death Cab For Cutie_Transatlanticism',\n",
              "  37223: 'Death Cab For Cutie_Transatlanticism',\n",
              "  69274: 'Death Cab For Cutie_Transatlanticism',\n",
              "  70048: 'Death Cab For Cutie_Transatlanticism',\n",
              "  71831: 'Death Cab For Cutie_Transatlanticism',\n",
              "  77852: 'Death Cab For Cutie_Transatlanticism',\n",
              "  79501: 'Death Cab For Cutie_Transatlanticism',\n",
              "  107924: 'Death Cab For Cutie_Transatlanticism',\n",
              "  121443: 'Death Cab For Cutie_Transatlanticism',\n",
              "  128897: 'Death Cab For Cutie_Transatlanticism',\n",
              "  133645: 'Death Cab For Cutie_Transatlanticism',\n",
              "  148256: 'Death Cab For Cutie_Transatlanticism',\n",
              "  158811: 'Death Cab For Cutie_Transatlanticism',\n",
              "  167745: 'Death Cab For Cutie_Transatlanticism',\n",
              "  199243: 'Death Cab For Cutie_Transatlanticism',\n",
              "  235043: 'Death Cab For Cutie_Transatlanticism',\n",
              "  255947: 'Death Cab For Cutie_Transatlanticism'},\n",
              " 'track_id': {22606: 38053,\n",
              "  37223: 38053,\n",
              "  69274: 38053,\n",
              "  70048: 38053,\n",
              "  71831: 38053,\n",
              "  77852: 38053,\n",
              "  79501: 38053,\n",
              "  107924: 38053,\n",
              "  121443: 38053,\n",
              "  128897: 38053,\n",
              "  133645: 38053,\n",
              "  148256: 38053,\n",
              "  158811: 38053,\n",
              "  167745: 38053,\n",
              "  199243: 38053,\n",
              "  235043: 38053,\n",
              "  255947: 38053},\n",
              " 'user_id': {22606: 47,\n",
              "  37223: 79,\n",
              "  69274: 158,\n",
              "  70048: 160,\n",
              "  71831: 168,\n",
              "  77852: 185,\n",
              "  79501: 192,\n",
              "  107924: 253,\n",
              "  121443: 283,\n",
              "  128897: 298,\n",
              "  133645: 310,\n",
              "  148256: 330,\n",
              "  158811: 351,\n",
              "  167745: 371,\n",
              "  199243: 423,\n",
              "  235043: 494,\n",
              "  255947: 541}}"
            ]
          },
          "metadata": {},
          "execution_count": 87
        }
      ]
    },
    {
      "cell_type": "markdown",
      "source": [
        "T-SNE"
      ],
      "metadata": {
        "id": "ygzNSRAQIDD9"
      }
    },
    {
      "cell_type": "code",
      "source": [
        "from sklearn.manifold import TSNE\n",
        "tsne = TSNE(n_components=2, n_iter=500, verbose=3, random_state=1)\n",
        "users_embedding = tsne.fit_transform(final_algorithm.pu)\n",
        "projection = pd.DataFrame(columns=['x', 'y'], data=users_embedding)\n",
        "projection['user_info'] = df_listen_track['user_id']"
      ],
      "metadata": {
        "colab": {
          "base_uri": "https://localhost:8080/"
        },
        "id": "L5E0waBNj4A_",
        "outputId": "d29fe78c-6218-4c00-d924-12777a65862d"
      },
      "execution_count": null,
      "outputs": [
        {
          "output_type": "stream",
          "name": "stderr",
          "text": [
            "/usr/local/lib/python3.7/dist-packages/sklearn/manifold/_t_sne.py:783: FutureWarning: The default initialization in TSNE will change from 'random' to 'pca' in 1.2.\n",
            "  FutureWarning,\n",
            "/usr/local/lib/python3.7/dist-packages/sklearn/manifold/_t_sne.py:793: FutureWarning: The default learning rate in TSNE will change from 200.0 to 'auto' in 1.2.\n",
            "  FutureWarning,\n"
          ]
        },
        {
          "output_type": "stream",
          "name": "stdout",
          "text": [
            "[t-SNE] Computing 91 nearest neighbors...\n",
            "[t-SNE] Indexed 584 samples in 0.000s...\n",
            "[t-SNE] Computed neighbors for 584 samples in 0.046s...\n",
            "[t-SNE] Computed conditional probabilities for sample 584 / 584\n",
            "[t-SNE] Mean sigma: 0.179626\n",
            "[t-SNE] Computed conditional probabilities in 0.061s\n",
            "[t-SNE] Iteration 50: error = 105.7358093, gradient norm = 0.2914197 (50 iterations in 0.405s)\n",
            "[t-SNE] Iteration 100: error = 106.4726257, gradient norm = 0.3020097 (50 iterations in 0.317s)\n",
            "[t-SNE] Iteration 150: error = 115.4475555, gradient norm = 0.2264133 (50 iterations in 0.281s)\n",
            "[t-SNE] Iteration 200: error = 113.1772079, gradient norm = 0.1785383 (50 iterations in 0.306s)\n",
            "[t-SNE] Iteration 250: error = 109.1842041, gradient norm = 0.2450173 (50 iterations in 0.290s)\n",
            "[t-SNE] KL divergence after 250 iterations with early exaggeration: 109.184204\n",
            "[t-SNE] Iteration 300: error = 2.6887240, gradient norm = 0.0041871 (50 iterations in 0.228s)\n",
            "[t-SNE] Iteration 350: error = 2.2652702, gradient norm = 0.0024159 (50 iterations in 0.266s)\n",
            "[t-SNE] Iteration 400: error = 2.1313353, gradient norm = 0.0016250 (50 iterations in 0.212s)\n",
            "[t-SNE] Iteration 450: error = 2.0005174, gradient norm = 0.0026302 (50 iterations in 0.221s)\n",
            "[t-SNE] Iteration 500: error = 1.9014442, gradient norm = 0.0014889 (50 iterations in 0.220s)\n",
            "[t-SNE] KL divergence after 500 iterations: 1.901444\n"
          ]
        }
      ]
    },
    {
      "cell_type": "code",
      "source": [
        "import plotly.express as px\n",
        "fig = px.scatter(\n",
        "    projection, x='x', y='y'\n",
        ")\n",
        "fig.show()"
      ],
      "metadata": {
        "id": "uf2rqrvdk-x9",
        "colab": {
          "base_uri": "https://localhost:8080/",
          "height": 542
        },
        "outputId": "e6006e35-95ae-45c6-f01b-4f47bcc920fe"
      },
      "execution_count": null,
      "outputs": [
        {
          "output_type": "display_data",
          "data": {
            "text/html": [
              "<html>\n",
              "<head><meta charset=\"utf-8\" /></head>\n",
              "<body>\n",
              "    <div>            <script src=\"https://cdnjs.cloudflare.com/ajax/libs/mathjax/2.7.5/MathJax.js?config=TeX-AMS-MML_SVG\"></script><script type=\"text/javascript\">if (window.MathJax) {MathJax.Hub.Config({SVG: {font: \"STIX-Web\"}});}</script>                <script type=\"text/javascript\">window.PlotlyConfig = {MathJaxConfig: 'local'};</script>\n",
              "        <script src=\"https://cdn.plot.ly/plotly-2.8.3.min.js\"></script>                <div id=\"20df3d26-c83c-41d6-b700-8bcb734d889c\" class=\"plotly-graph-div\" style=\"height:525px; width:100%;\"></div>            <script type=\"text/javascript\">                                    window.PLOTLYENV=window.PLOTLYENV || {};                                    if (document.getElementById(\"20df3d26-c83c-41d6-b700-8bcb734d889c\")) {                    Plotly.newPlot(                        \"20df3d26-c83c-41d6-b700-8bcb734d889c\",                        [{\"hovertemplate\":\"x=%{x}<br>y=%{y}<extra></extra>\",\"legendgroup\":\"\",\"marker\":{\"color\":\"#636efa\",\"symbol\":\"circle\"},\"mode\":\"markers\",\"name\":\"\",\"orientation\":\"v\",\"showlegend\":false,\"x\":[4.505756855010986,2.7286362648010254,-0.38516610860824585,3.8601465225219727,1.7117756605148315,-1.6903095245361328,0.48590248823165894,1.8743970394134521,3.924635171890259,1.7031073570251465,0.551026463508606,2.6286373138427734,0.39378470182418823,-1.7833343744277954,0.5569900274276733,-1.1768794059753418,1.559355616569519,0.5661614537239075,-2.3230361938476562,0.4732966125011444,4.805994510650635,-0.46852579712867737,1.8165782690048218,1.9023066759109497,-0.41740697622299194,3.615368366241455,1.1158488988876343,2.0699779987335205,2.0053138732910156,0.10252061486244202,0.34119364619255066,2.6205456256866455,-1.1008713245391846,0.12613055109977722,0.04841829836368561,5.691359043121338,0.8818913102149963,-3.048365354537964,-0.33373191952705383,-0.347434937953949,4.3925652503967285,-2.1900482177734375,-2.530952215194702,-2.1275532245635986,2.329031467437744,2.4090747833251953,0.2955247163772583,7.404549598693848,-1.7340022325515747,1.3646584749221802,0.3335416316986084,0.19792428612709045,2.874117851257324,2.104083776473999,-2.4892578125,-0.7248061299324036,-0.13830852508544922,-0.1903400719165802,1.843054175376892,-1.706729769706726,0.8759146332740784,0.377021461725235,0.08952071517705917,0.9637429714202881,4.554025173187256,-0.0402747206389904,1.007826328277588,0.34763485193252563,-2.4624850749969482,0.1932140588760376,3.507089376449585,1.712351679801941,-1.3552340269088745,1.8130701780319214,-0.6791759133338928,0.6670929789543152,0.3755683898925781,-0.266490638256073,0.9967542886734009,7.187203884124756,0.6501936316490173,2.951982259750366,-1.1815205812454224,-0.027076534926891327,1.3474119901657104,6.515868186950684,5.6608967781066895,-3.2886056900024414,5.2044453620910645,1.773484706878662,4.422511100769043,3.0052480697631836,-4.056603908538818,1.391143560409546,-2.613337755203247,-3.0957326889038086,0.7868292927742004,-5.548595905303955,3.3222920894622803,0.32192912697792053,-0.6072357296943665,0.7960671782493591,5.030537128448486,-0.4004622995853424,-1.5380003452301025,1.6905839443206787,2.5750787258148193,0.34711962938308716,-3.2512314319610596,-4.157663345336914,4.214707374572754,-2.209709882736206,3.4537196159362793,1.7279785871505737,1.4396121501922607,-1.2057472467422485,0.030834082514047623,-1.6305922269821167,3.705249786376953,0.23277796804904938,0.8238539099693298,3.5294225215911865,3.3430004119873047,-4.446554660797119,1.4829288721084595,3.5694804191589355,-1.724043846130371,1.7416499853134155,0.030659258365631104,0.4727918207645416,-2.6782033443450928,0.7919682860374451,-1.3396239280700684,-1.6216669082641602,4.4922966957092285,4.697821617126465,0.7002021670341492,-1.082720398902893,-5.387217998504639,-0.10369718074798584,2.519237756729126,1.0681874752044678,0.6188995838165283,-0.32056018710136414,-1.1380882263183594,0.15780790150165558,2.873347520828247,2.527796983718872,3.651844024658203,-1.3893417119979858,-0.35190385580062866,4.360570907592773,-5.152645111083984,0.6187966465950012,-0.47390660643577576,4.340329170227051,-0.4026469588279724,-0.5941241979598999,-3.949174642562866,2.7738289833068848,-1.6771395206451416,0.33655741810798645,1.4040945768356323,0.39298850297927856,-4.029000759124756,-4.24692440032959,-4.07149600982666,7.215590953826904,-3.6975462436676025,0.7813313007354736,0.9193213582038879,5.671468734741211,3.4576282501220703,-0.005312731489539146,2.034404754638672,-2.283630609512329,-0.12136663496494293,-0.8019115328788757,2.8247928619384766,-0.246294766664505,1.0639628171920776,-3.2523441314697266,2.6738924980163574,4.923746109008789,-2.33553409576416,0.2721289396286011,1.0618057250976562,0.4085012972354889,0.4152751564979553,-1.1599453687667847,-0.7681124210357666,5.762200832366943,-1.1840473413467407,-0.1828737109899521,0.010268053971230984,0.42651864886283875,-0.12900222837924957,7.1770148277282715,0.39190155267715454,1.4384089708328247,3.8319427967071533,-0.13138942420482635,-0.9600799083709717,3.80743145942688,0.0901440978050232,-3.2400710582733154,1.7139906883239746,3.497006893157959,1.8978255987167358,2.501891851425171,1.466542363166809,7.412322998046875,-2.3684659004211426,0.4570765793323517,-0.6761617660522461,-1.7511707544326782,4.544875144958496,0.4501466751098633,-0.376772403717041,1.3130278587341309,-2.5532009601593018,0.41794106364250183,-1.875960350036621,-3.6151645183563232,-0.22967487573623657,1.593975305557251,-3.5501818656921387,-3.6403019428253174,-1.2538830041885376,-2.285154104232788,1.6069879531860352,2.876485586166382,-3.755612850189209,0.3334057629108429,-5.520382404327393,-0.04333009570837021,-0.10499398410320282,0.26168423891067505,-2.600938320159912,-4.660675525665283,0.686426043510437,3.231285572052002,-3.9842529296875,-0.4089187979698181,0.23069331049919128,1.1538561582565308,-2.935957670211792,3.320197582244873,6.516963005065918,2.227985382080078,1.5585535764694214,0.5559942126274109,1.826167106628418,0.24732369184494019,0.4790145754814148,1.720521330833435,-0.45156678557395935,-1.0034356117248535,0.4180794656276703,4.50919246673584,4.068223476409912,0.5917101502418518,1.9289157390594482,3.8288540840148926,-1.1804747581481934,-0.09878651797771454,0.633584201335907,-0.7182345986366272,0.33729100227355957,3.746063709259033,1.192169189453125,-0.9750978350639343,1.7581450939178467,-2.3720812797546387,2.558981418609619,0.7393703460693359,4.390065670013428,-1.5626932382583618,1.9519422054290771,-2.4380645751953125,1.2999446392059326,-2.591468334197998,3.3342790603637695,-0.40103742480278015,0.8515539169311523,4.972744941711426,-4.1453657150268555,1.8657065629959106,0.148222416639328,1.7010632753372192,0.07595760375261307,1.4627771377563477,-2.92779278755188,1.1447268724441528,3.2156240940093994,-2.5324978828430176,-1.6998372077941895,0.3621827960014343,-2.8887250423431396,3.0677578449249268,-2.008234977722168,1.8529247045516968,-0.04354843497276306,-3.8902316093444824,5.3966779708862305,3.3431942462921143,1.5015954971313477,0.4290238618850708,4.6829023361206055,-1.3778432607650757,-1.4498562812805176,3.716055393218994,0.05788401514291763,4.609378337860107,2.451286792755127,3.362109661102295,0.040494609624147415,-3.973536491394043,4.268029689788818,-1.7344415187835693,-0.2895461916923523,-0.05154172703623772,3.289891242980957,-2.8266661167144775,1.816968321800232,2.8066024780273438,-1.9500409364700317,0.3561219871044159,3.2392632961273193,-4.7785797119140625,-0.6666612029075623,-3.325381278991699,-3.1272072792053223,-1.3522140979766846,-0.09195321053266525,2.5839827060699463,6.688543319702148,-3.0298070907592773,-0.6221595406532288,-4.915984630584717,-1.760820746421814,1.8383241891860962,2.875457763671875,0.5723056793212891,1.3744035959243774,1.3679345846176147,-2.896420955657959,1.8192667961120605,-1.9423818588256836,-4.613259315490723,1.9650330543518066,0.05887462943792343,3.277235746383667,0.9981991052627563,-0.8790411353111267,1.9583220481872559,-0.2972724735736847,-3.4692020416259766,0.8175441026687622,3.212905168533325,-0.5007023215293884,-0.5574941039085388,1.8675885200500488,5.458691596984863,-3.9795587062835693,2.615471601486206,2.3563106060028076,2.033647060394287,2.498831272125244,2.5619165897369385,1.8001062870025635,5.362545490264893,1.4226502180099487,0.3168453276157379,-0.8705004453659058,-2.432452440261841,-4.423326015472412,-1.742898941040039,-1.8167192935943604,-2.882493495941162,-0.2221076488494873,-1.4850438833236694,0.5360722541809082,3.3025903701782227,-1.5191315412521362,-0.7041895389556885,-1.5779556035995483,3.3080763816833496,-4.999556541442871,2.456897020339966,-1.1695109605789185,0.570916473865509,0.8868116140365601,4.895833492279053,3.116513252258301,1.948904037475586,1.207259178161621,0.3488127887248993,0.5778059959411621,0.1830897331237793,2.8975138664245605,0.8802983164787292,1.6521879434585571,5.5658488273620605,-0.37285611033439636,-1.4850497245788574,4.290173530578613,-0.8603023290634155,2.3270890712738037,-0.16601507365703583,2.697092294692993,-3.759124994277954,-1.1124987602233887,4.447298049926758,-1.2671476602554321,0.4054591953754425,-0.07653365284204483,3.3796350955963135,1.3318825960159302,-0.7443030476570129,3.0933079719543457,0.5916844010353088,-0.4975348114967346,-4.691488742828369,-0.7203836441040039,1.199981927871704,-2.610168218612671,-1.7206155061721802,-0.2860264182090759,-0.9201125502586365,1.1621564626693726,0.4633427858352661,0.9502529501914978,-3.974759817123413,-1.7659573554992676,-1.9630814790725708,5.266613483428955,1.5135600566864014,-0.3433953821659088,0.3191961944103241,3.045504331588745,-3.6197457313537598,0.978561282157898,-0.306873619556427,1.2958064079284668,3.6936850547790527,5.938870429992676,-0.1885029822587967,1.5724902153015137,0.7763844728469849,0.6012868881225586,1.6611459255218506,-2.3435583114624023,-4.352186679840088,3.7895405292510986,4.70993185043335,-0.5247927904129028,0.8412164449691772,1.2423095703125,-2.8401949405670166,4.603024959564209,4.7676801681518555,-1.4458619356155396,0.025456540286540985,1.1554560661315918,0.5669801831245422,-1.0935603380203247,1.966257095336914,2.1020734310150146,-3.9485974311828613,-3.3757529258728027,1.393326759338379,0.49827781319618225,5.1806721687316895,1.9390853643417358,0.8967919945716858,-0.675707995891571,2.5904526710510254,1.2676128149032593,0.9809042811393738,-4.699373245239258,4.11455774307251,-3.7969493865966797,-1.5908699035644531,-0.9344435930252075,0.8457745909690857,0.33925506472587585,0.9665460586547852,1.0202633142471313,-0.4987655580043793,-2.394378423690796,-2.7240350246429443,-0.3075178265571594,0.6091271042823792,0.5785583853721619,0.8353227376937866,2.2412941455841064,-0.5802570581436157,6.646231651306152,-0.9918421506881714,-1.7335976362228394,6.067449569702148,1.8294751644134521,1.9306927919387817,-0.6481456756591797,1.068986415863037,0.8279005885124207,0.37494251132011414,-2.3252925872802734,-1.0507581233978271,-3.178234815597534,1.0682560205459595,4.234645843505859,1.3891050815582275,-0.5445086359977722,1.9077627658843994,2.3359789848327637,4.67076301574707,1.7093312740325928,-2.248826742172241,-0.603754460811615,-2.236057758331299,2.8903980255126953,4.607386112213135,2.0820791721343994,2.210850954055786,-1.6486923694610596,3.2263107299804688,2.2546238899230957,-1.4340204000473022,-1.0771803855895996,1.6186362504959106,-0.5908786058425903,3.518366575241089,0.2536640465259552,4.343663692474365,-0.33249348402023315,2.7022104263305664,0.6559196710586548,-4.725647449493408,2.322836399078369,0.8280526399612427,0.9999773502349854,-3.4030466079711914,-1.33451247215271,0.3336683213710785,-0.4583524167537689,6.566460132598877,-0.43207916617393494,1.1460492610931396,0.8475971817970276,-0.6147772669792175,0.5297614932060242,1.4579589366912842,-2.043421745300293,0.43202534317970276,-1.4238917827606201,1.5483016967773438,4.787325382232666,2.3044722080230713,1.5704214572906494,0.37530386447906494,0.023876739665865898,1.632530689239502,0.3286169171333313,-4.526240825653076,3.193902015686035,7.403275489807129,4.332556247711182,1.2047076225280762,2.751868724822998,-0.40293022990226746,4.620731353759766,0.5814099311828613,0.774191677570343,1.0817561149597168,-2.702897310256958,-0.1332874596118927,2.725266695022583,-2.0505740642547607,-1.3253041505813599,-1.4661208391189575,-0.9488636255264282,-0.6047540903091431],\"xaxis\":\"x\",\"y\":[-1.102683663368225,2.7412269115448,1.6212671995162964,-3.264498710632324,-2.823806047439575,1.5478785037994385,-1.2670735120773315,-1.3498302698135376,-1.1219061613082886,3.4835240840911865,-0.735755205154419,-4.319182872772217,-0.4863135814666748,-0.7554692625999451,-0.5085042119026184,2.4388723373413086,2.000293254852295,-0.48372069001197815,3.766375780105591,-0.6442058086395264,0.1347256898880005,-1.7284985780715942,-3.988837480545044,-3.787099838256836,-6.002218723297119,0.3493926227092743,-0.23562142252922058,-1.5181645154953003,0.5473195314407349,-0.8873376250267029,-0.4812326431274414,0.2861396372318268,-0.6045541763305664,-0.984024703502655,0.9730209708213806,-0.7980383634567261,-0.5447884798049927,2.6048035621643066,0.02787318080663681,-4.3429670333862305,0.7423180341720581,-2.185844898223877,2.2084476947784424,-4.906312942504883,0.11606266349554062,-5.796177864074707,5.080538749694824,1.8758610486984253,1.7104803323745728,-6.635463237762451,-0.5386326909065247,0.08981070667505264,4.996540069580078,-2.1943089962005615,-2.6988933086395264,-0.19086670875549316,-1.168405532836914,-5.0662713050842285,-4.4095611572265625,-1.8854951858520508,0.8636287450790405,-0.531442403793335,0.4099242389202118,-0.10355666279792786,-2.437185525894165,3.3559751510620117,1.2255358695983887,-0.053203240036964417,-0.40833044052124023,-1.0163222551345825,-1.5124702453613281,-5.0487895011901855,-2.5375306606292725,1.123010516166687,1.845703363418579,-5.531402587890625,-0.7596979737281799,-0.4074517786502838,3.7092397212982178,-1.888435959815979,-0.6820340752601624,0.331900030374527,2.336294412612915,-0.3174282908439636,0.2948239743709564,-1.7476773262023926,1.3399392366409302,-4.243108749389648,-0.5383373498916626,-2.107175827026367,4.215264320373535,-2.0661518573760986,2.242323160171509,-1.0818365812301636,-1.2725411653518677,-3.2913811206817627,2.612299680709839,-1.0353714227676392,1.2317390441894531,-3.638141393661499,-3.3063275814056396,0.10172146558761597,-2.1385114192962646,0.5362550616264343,0.2444145679473877,1.6741677522659302,-5.88156795501709,-0.6514701247215271,0.6936744451522827,-2.081181287765503,-3.7352306842803955,2.1039154529571533,-0.6213170289993286,0.8414061069488525,0.6117839217185974,-2.0884454250335693,1.6033791303634644,1.6413103342056274,-2.1396877765655518,-2.951061487197876,-0.19928687810897827,1.7090703248977661,-1.6022398471832275,2.0850448608398438,-1.416538119316101,0.12084820866584778,1.2208563089370728,3.2907683849334717,0.014585201628506184,-0.3691426217556,-1.2939451932907104,-1.0221033096313477,-3.237466335296631,-0.6655651926994324,-2.4495389461517334,1.8567951917648315,-0.0887700617313385,0.05466790497303009,-1.0624727010726929,0.5943659543991089,-0.47387057542800903,-0.3125168979167938,-1.1441348791122437,-3.5784950256347656,-3.1240153312683105,2.187889814376831,4.969632148742676,-1.4785075187683105,-2.2265615463256836,-3.334918737411499,-0.8604447245597839,-5.303027153015137,-2.969313859939575,-0.5042851567268372,1.8039966821670532,4.381512641906738,-1.8179707527160645,-0.36252182722091675,2.053152084350586,-4.43949031829834,1.6305713653564453,-0.5490573644638062,-1.7579777240753174,-0.5939064621925354,-1.9621782302856445,-1.9916273355484009,1.0595766305923462,-1.8985862731933594,-3.028560161590576,1.1557940244674683,-0.20399554073810577,-2.1903328895568848,0.3892856538295746,-2.892824172973633,-0.1392020732164383,2.9310555458068848,3.5671184062957764,0.808521568775177,-1.4499428272247314,-2.4385533332824707,-4.9505791664123535,1.1070661544799805,2.1911489963531494,-4.063847064971924,-2.6847305297851562,1.6747527122497559,-0.3470477759838104,-0.49956953525543213,-0.48803070187568665,2.916922092437744,-1.2339909076690674,1.3929550647735596,0.5584080219268799,-2.623460531234741,-0.8665333986282349,0.20513592660427094,-1.6004669666290283,-1.8843927383422852,-0.5879263281822205,-3.0491724014282227,3.408355236053467,-4.141112327575684,0.041224997490644455,2.7086050510406494,0.4743417799472809,-1.8852349519729614,-2.9283030033111572,0.3796731233596802,-2.89687442779541,1.5963249206542969,-0.1499938815832138,1.8788676261901855,-1.3778377771377563,0.4553825259208679,2.6423542499542236,1.0122406482696533,3.586097240447998,-0.31761226058006287,-0.04460201412439346,2.6855976581573486,-0.6609125137329102,-0.44057124853134155,4.248675346374512,-1.7871379852294922,-4.964838981628418,-2.5793707370758057,-2.9725983142852783,-1.8441001176834106,-1.3034555912017822,-3.3920860290527344,4.740141868591309,1.378556728363037,0.8065710067749023,-0.35207024216651917,-1.0562564134597778,1.757819652557373,-6.4223480224609375,-1.375037670135498,-1.6755852699279785,2.2237300872802734,-4.714277267456055,-4.7429704666137695,0.46009087562561035,-0.9568952918052673,-0.2869250476360321,0.12082166969776154,-0.23517946898937225,-4.868198394775391,-1.7117077112197876,-0.5584523677825928,-2.5527892112731934,3.7301974296569824,-0.642340898513794,-0.5985612273216248,-0.7580665946006775,-3.7966599464416504,-1.0772850513458252,-0.9461759328842163,-0.9655787944793701,3.8271360397338867,-0.7515966296195984,-3.8866188526153564,0.30461597442626953,2.7111706733703613,-3.4395534992218018,-0.605187177658081,-5.357906341552734,-1.117067575454712,5.086443901062012,-1.1139647960662842,-0.033023934811353683,-1.0811364650726318,-3.0291590690612793,-3.5402374267578125,-1.5448826551437378,-1.3120553493499756,-2.4054980278015137,-3.155026912689209,4.096232891082764,-3.330458879470825,-6.658556938171387,-4.959875583648682,-0.40069806575775146,0.12672559916973114,2.925396680831909,-3.998655080795288,-0.8323048949241638,4.4443559646606445,-1.6630120277404785,4.554189682006836,-0.6663113236427307,-2.518162488937378,-1.3302602767944336,1.9874433279037476,1.750180959701538,3.7422637939453125,0.887587308883667,-0.43890371918678284,-0.37078380584716797,1.6423090696334839,-4.808775901794434,-3.1410508155822754,-1.2425044775009155,-0.829887330532074,-2.184147357940674,3.3666739463806152,-1.352582573890686,-3.250641107559204,3.9225242137908936,-3.951523780822754,-4.450732231140137,1.3478223085403442,-1.1649513244628906,-0.10318242013454437,2.247453212738037,3.489750385284424,-0.4692860245704651,-1.8683520555496216,-0.4302169382572174,-0.7355994582176208,-4.382489204406738,1.4342707395553589,-0.6347444653511047,1.7896318435668945,-5.156152248382568,-3.5576608180999756,4.426307201385498,-0.4506492614746094,-2.4731175899505615,1.149831771850586,4.565727233886719,-3.387705087661743,-0.294992059469223,-4.244505882263184,-3.206770420074463,2.6917738914489746,-0.6150062084197998,-0.10307025909423828,4.404236793518066,-2.818638801574707,-0.8792201280593872,-2.9699032306671143,0.5952925682067871,-1.6573883295059204,-4.116178512573242,-0.7969570755958557,0.38714972138404846,-4.115370750427246,-2.598552942276001,1.0371007919311523,-0.712671160697937,-3.901620864868164,-3.2647149562835693,-0.3756199777126312,-2.0094473361968994,0.9132874608039856,-3.394477128982544,3.946568012237549,-0.0706804022192955,-0.0762520432472229,3.5398988723754883,-0.8812165856361389,-2.879558563232422,-0.5772687792778015,-0.856918454170227,-2.7062172889709473,-0.6482753753662109,0.19868551194667816,-3.125852346420288,-0.612433910369873,-0.40127336978912354,2.838606357574463,-1.11020028591156,0.8868216276168823,2.9302029609680176,0.40386444330215454,-3.5334219932556152,0.4454788267612457,-5.337028980255127,1.1789910793304443,-5.345710754394531,-0.9659707546234131,-5.370682716369629,1.8772591352462769,3.41093373298645,-0.3972373604774475,3.5188450813293457,-4.860729694366455,-2.8925294876098633,-5.766182899475098,-1.3356443643569946,3.88033390045166,-2.7789812088012695,-4.014562129974365,-2.2485783100128174,3.710921049118042,1.229544997215271,-1.8448971509933472,0.5391960740089417,-0.0331396758556366,-0.24173744022846222,2.6633551120758057,-3.1683266162872314,-0.7368190884590149,-1.7246742248535156,5.450807571411133,-1.279858112335205,0.2538587749004364,-2.4310762882232666,-2.4093916416168213,0.1429899036884308,1.9906232357025146,-0.43554139137268066,-5.2633562088012695,1.0636974573135376,0.5358109474182129,-0.37879547476768494,-3.408397912979126,-6.393589973449707,-6.117143154144287,-1.3016849756240845,-3.6840245723724365,-4.2592692375183105,-0.32688090205192566,-0.4064714312553406,1.4663314819335938,1.768495798110962,0.09108652174472809,3.6954078674316406,0.8680761456489563,-1.3690000772476196,2.4206740856170654,0.09530970454216003,2.0747246742248535,3.9140522480010986,-1.8591101169586182,2.765054225921631,-0.056402113288640976,-0.22272953391075134,4.986364841461182,-0.9916951060295105,-1.8171802759170532,-0.8903910517692566,0.9178677201271057,-6.5414910316467285,-3.1355197429656982,0.6550087928771973,0.36404410004615784,-3.9310367107391357,-1.4048006534576416,1.3515443801879883,-1.033922553062439,-2.7926573753356934,-3.394401788711548,3.281633138656616,0.9650444388389587,-0.879925012588501,-1.3245104551315308,1.5854910612106323,0.1443794071674347,1.8730829954147339,1.8394948244094849,-1.3739311695098877,0.4568066895008087,-0.8565275073051453,1.366195559501648,1.4482756853103638,-0.8392938375473022,-1.4265761375427246,0.4590515196323395,3.895374059677124,-1.4125127792358398,-1.6753813028335571,-2.2059905529022217,-0.9962814450263977,-0.604213535785675,-0.5476754307746887,0.1986338198184967,1.4790235757827759,-2.1702864170074463,-0.30921122431755066,-3.6081788539886475,-0.8172531723976135,0.8757176995277405,0.8229225873947144,0.37785768508911133,0.22301548719406128,0.6137472987174988,0.48198601603507996,1.1309230327606201,3.627129077911377,-1.3491380214691162,1.919616937637329,-5.309709072113037,2.6928775310516357,-1.1446144580841064,-3.4438889026641846,2.3374221324920654,-1.6138120889663696,2.2591075897216797,-1.8904775381088257,0.6240851283073425,3.2443735599517822,0.7424887418746948,-4.489119052886963,-0.6028907299041748,-1.4631198644638062,-2.2672924995422363,0.28914985060691833,-2.283522844314575,-4.139294624328613,3.4470717906951904,-0.35796207189559937,-0.18262019753456116,-1.8713557720184326,2.0118701457977295,2.625560998916626,0.06745602935552597,0.9519258141517639,2.4589853286743164,-4.4113593101501465,2.0757875442504883,4.872522354125977,1.8267523050308228,2.226837396621704,1.134513020515442,-0.06129460409283638,0.9792794585227966,0.4442836344242096,-2.248408794403076,-1.5335345268249512,4.613043308258057,0.3487074375152588,1.3025411367416382,0.6431469917297363,-5.2590179443359375,-2.828176259994507,-3.2178046703338623,-2.7438085079193115,-2.658041000366211,-2.9151272773742676,2.3942081928253174,-0.7473155856132507,-0.6865136623382568,-2.9306936264038086,1.9685553312301636,-5.9451775550842285,-0.44457611441612244,-2.3051671981811523,-2.477851152420044,0.9677844047546387,1.6685614585876465,-1.9601426124572754,0.44002020359039307,-1.4826815128326416,-1.5844939947128296,-1.6142065525054932,-3.5108249187469482,0.06003446877002716,3.4843196868896484,-3.167619228363037,2.697629451751709,0.05848386511206627,-0.26325079798698425,-1.8457705974578857,-0.4113897681236267,-1.7416069507598877,1.871466040611267,1.821587324142456,0.9042482376098633,1.388222336769104,3.483194351196289,1.445671796798706,-2.125642776489258,-2.030893087387085,-2.1522879600524902,1.7015869617462158,-1.1841193437576294,-1.1147284507751465,-4.37347412109375,2.687128782272339,5.3582940101623535,0.7772488594055176,-1.5260593891143799],\"yaxis\":\"y\",\"type\":\"scatter\"}],                        {\"template\":{\"data\":{\"bar\":[{\"error_x\":{\"color\":\"#2a3f5f\"},\"error_y\":{\"color\":\"#2a3f5f\"},\"marker\":{\"line\":{\"color\":\"#E5ECF6\",\"width\":0.5},\"pattern\":{\"fillmode\":\"overlay\",\"size\":10,\"solidity\":0.2}},\"type\":\"bar\"}],\"barpolar\":[{\"marker\":{\"line\":{\"color\":\"#E5ECF6\",\"width\":0.5},\"pattern\":{\"fillmode\":\"overlay\",\"size\":10,\"solidity\":0.2}},\"type\":\"barpolar\"}],\"carpet\":[{\"aaxis\":{\"endlinecolor\":\"#2a3f5f\",\"gridcolor\":\"white\",\"linecolor\":\"white\",\"minorgridcolor\":\"white\",\"startlinecolor\":\"#2a3f5f\"},\"baxis\":{\"endlinecolor\":\"#2a3f5f\",\"gridcolor\":\"white\",\"linecolor\":\"white\",\"minorgridcolor\":\"white\",\"startlinecolor\":\"#2a3f5f\"},\"type\":\"carpet\"}],\"choropleth\":[{\"colorbar\":{\"outlinewidth\":0,\"ticks\":\"\"},\"type\":\"choropleth\"}],\"contour\":[{\"colorbar\":{\"outlinewidth\":0,\"ticks\":\"\"},\"colorscale\":[[0.0,\"#0d0887\"],[0.1111111111111111,\"#46039f\"],[0.2222222222222222,\"#7201a8\"],[0.3333333333333333,\"#9c179e\"],[0.4444444444444444,\"#bd3786\"],[0.5555555555555556,\"#d8576b\"],[0.6666666666666666,\"#ed7953\"],[0.7777777777777778,\"#fb9f3a\"],[0.8888888888888888,\"#fdca26\"],[1.0,\"#f0f921\"]],\"type\":\"contour\"}],\"contourcarpet\":[{\"colorbar\":{\"outlinewidth\":0,\"ticks\":\"\"},\"type\":\"contourcarpet\"}],\"heatmap\":[{\"colorbar\":{\"outlinewidth\":0,\"ticks\":\"\"},\"colorscale\":[[0.0,\"#0d0887\"],[0.1111111111111111,\"#46039f\"],[0.2222222222222222,\"#7201a8\"],[0.3333333333333333,\"#9c179e\"],[0.4444444444444444,\"#bd3786\"],[0.5555555555555556,\"#d8576b\"],[0.6666666666666666,\"#ed7953\"],[0.7777777777777778,\"#fb9f3a\"],[0.8888888888888888,\"#fdca26\"],[1.0,\"#f0f921\"]],\"type\":\"heatmap\"}],\"heatmapgl\":[{\"colorbar\":{\"outlinewidth\":0,\"ticks\":\"\"},\"colorscale\":[[0.0,\"#0d0887\"],[0.1111111111111111,\"#46039f\"],[0.2222222222222222,\"#7201a8\"],[0.3333333333333333,\"#9c179e\"],[0.4444444444444444,\"#bd3786\"],[0.5555555555555556,\"#d8576b\"],[0.6666666666666666,\"#ed7953\"],[0.7777777777777778,\"#fb9f3a\"],[0.8888888888888888,\"#fdca26\"],[1.0,\"#f0f921\"]],\"type\":\"heatmapgl\"}],\"histogram\":[{\"marker\":{\"pattern\":{\"fillmode\":\"overlay\",\"size\":10,\"solidity\":0.2}},\"type\":\"histogram\"}],\"histogram2d\":[{\"colorbar\":{\"outlinewidth\":0,\"ticks\":\"\"},\"colorscale\":[[0.0,\"#0d0887\"],[0.1111111111111111,\"#46039f\"],[0.2222222222222222,\"#7201a8\"],[0.3333333333333333,\"#9c179e\"],[0.4444444444444444,\"#bd3786\"],[0.5555555555555556,\"#d8576b\"],[0.6666666666666666,\"#ed7953\"],[0.7777777777777778,\"#fb9f3a\"],[0.8888888888888888,\"#fdca26\"],[1.0,\"#f0f921\"]],\"type\":\"histogram2d\"}],\"histogram2dcontour\":[{\"colorbar\":{\"outlinewidth\":0,\"ticks\":\"\"},\"colorscale\":[[0.0,\"#0d0887\"],[0.1111111111111111,\"#46039f\"],[0.2222222222222222,\"#7201a8\"],[0.3333333333333333,\"#9c179e\"],[0.4444444444444444,\"#bd3786\"],[0.5555555555555556,\"#d8576b\"],[0.6666666666666666,\"#ed7953\"],[0.7777777777777778,\"#fb9f3a\"],[0.8888888888888888,\"#fdca26\"],[1.0,\"#f0f921\"]],\"type\":\"histogram2dcontour\"}],\"mesh3d\":[{\"colorbar\":{\"outlinewidth\":0,\"ticks\":\"\"},\"type\":\"mesh3d\"}],\"parcoords\":[{\"line\":{\"colorbar\":{\"outlinewidth\":0,\"ticks\":\"\"}},\"type\":\"parcoords\"}],\"pie\":[{\"automargin\":true,\"type\":\"pie\"}],\"scatter\":[{\"marker\":{\"colorbar\":{\"outlinewidth\":0,\"ticks\":\"\"}},\"type\":\"scatter\"}],\"scatter3d\":[{\"line\":{\"colorbar\":{\"outlinewidth\":0,\"ticks\":\"\"}},\"marker\":{\"colorbar\":{\"outlinewidth\":0,\"ticks\":\"\"}},\"type\":\"scatter3d\"}],\"scattercarpet\":[{\"marker\":{\"colorbar\":{\"outlinewidth\":0,\"ticks\":\"\"}},\"type\":\"scattercarpet\"}],\"scattergeo\":[{\"marker\":{\"colorbar\":{\"outlinewidth\":0,\"ticks\":\"\"}},\"type\":\"scattergeo\"}],\"scattergl\":[{\"marker\":{\"colorbar\":{\"outlinewidth\":0,\"ticks\":\"\"}},\"type\":\"scattergl\"}],\"scattermapbox\":[{\"marker\":{\"colorbar\":{\"outlinewidth\":0,\"ticks\":\"\"}},\"type\":\"scattermapbox\"}],\"scatterpolar\":[{\"marker\":{\"colorbar\":{\"outlinewidth\":0,\"ticks\":\"\"}},\"type\":\"scatterpolar\"}],\"scatterpolargl\":[{\"marker\":{\"colorbar\":{\"outlinewidth\":0,\"ticks\":\"\"}},\"type\":\"scatterpolargl\"}],\"scatterternary\":[{\"marker\":{\"colorbar\":{\"outlinewidth\":0,\"ticks\":\"\"}},\"type\":\"scatterternary\"}],\"surface\":[{\"colorbar\":{\"outlinewidth\":0,\"ticks\":\"\"},\"colorscale\":[[0.0,\"#0d0887\"],[0.1111111111111111,\"#46039f\"],[0.2222222222222222,\"#7201a8\"],[0.3333333333333333,\"#9c179e\"],[0.4444444444444444,\"#bd3786\"],[0.5555555555555556,\"#d8576b\"],[0.6666666666666666,\"#ed7953\"],[0.7777777777777778,\"#fb9f3a\"],[0.8888888888888888,\"#fdca26\"],[1.0,\"#f0f921\"]],\"type\":\"surface\"}],\"table\":[{\"cells\":{\"fill\":{\"color\":\"#EBF0F8\"},\"line\":{\"color\":\"white\"}},\"header\":{\"fill\":{\"color\":\"#C8D4E3\"},\"line\":{\"color\":\"white\"}},\"type\":\"table\"}]},\"layout\":{\"annotationdefaults\":{\"arrowcolor\":\"#2a3f5f\",\"arrowhead\":0,\"arrowwidth\":1},\"autotypenumbers\":\"strict\",\"coloraxis\":{\"colorbar\":{\"outlinewidth\":0,\"ticks\":\"\"}},\"colorscale\":{\"diverging\":[[0,\"#8e0152\"],[0.1,\"#c51b7d\"],[0.2,\"#de77ae\"],[0.3,\"#f1b6da\"],[0.4,\"#fde0ef\"],[0.5,\"#f7f7f7\"],[0.6,\"#e6f5d0\"],[0.7,\"#b8e186\"],[0.8,\"#7fbc41\"],[0.9,\"#4d9221\"],[1,\"#276419\"]],\"sequential\":[[0.0,\"#0d0887\"],[0.1111111111111111,\"#46039f\"],[0.2222222222222222,\"#7201a8\"],[0.3333333333333333,\"#9c179e\"],[0.4444444444444444,\"#bd3786\"],[0.5555555555555556,\"#d8576b\"],[0.6666666666666666,\"#ed7953\"],[0.7777777777777778,\"#fb9f3a\"],[0.8888888888888888,\"#fdca26\"],[1.0,\"#f0f921\"]],\"sequentialminus\":[[0.0,\"#0d0887\"],[0.1111111111111111,\"#46039f\"],[0.2222222222222222,\"#7201a8\"],[0.3333333333333333,\"#9c179e\"],[0.4444444444444444,\"#bd3786\"],[0.5555555555555556,\"#d8576b\"],[0.6666666666666666,\"#ed7953\"],[0.7777777777777778,\"#fb9f3a\"],[0.8888888888888888,\"#fdca26\"],[1.0,\"#f0f921\"]]},\"colorway\":[\"#636efa\",\"#EF553B\",\"#00cc96\",\"#ab63fa\",\"#FFA15A\",\"#19d3f3\",\"#FF6692\",\"#B6E880\",\"#FF97FF\",\"#FECB52\"],\"font\":{\"color\":\"#2a3f5f\"},\"geo\":{\"bgcolor\":\"white\",\"lakecolor\":\"white\",\"landcolor\":\"#E5ECF6\",\"showlakes\":true,\"showland\":true,\"subunitcolor\":\"white\"},\"hoverlabel\":{\"align\":\"left\"},\"hovermode\":\"closest\",\"mapbox\":{\"style\":\"light\"},\"paper_bgcolor\":\"white\",\"plot_bgcolor\":\"#E5ECF6\",\"polar\":{\"angularaxis\":{\"gridcolor\":\"white\",\"linecolor\":\"white\",\"ticks\":\"\"},\"bgcolor\":\"#E5ECF6\",\"radialaxis\":{\"gridcolor\":\"white\",\"linecolor\":\"white\",\"ticks\":\"\"}},\"scene\":{\"xaxis\":{\"backgroundcolor\":\"#E5ECF6\",\"gridcolor\":\"white\",\"gridwidth\":2,\"linecolor\":\"white\",\"showbackground\":true,\"ticks\":\"\",\"zerolinecolor\":\"white\"},\"yaxis\":{\"backgroundcolor\":\"#E5ECF6\",\"gridcolor\":\"white\",\"gridwidth\":2,\"linecolor\":\"white\",\"showbackground\":true,\"ticks\":\"\",\"zerolinecolor\":\"white\"},\"zaxis\":{\"backgroundcolor\":\"#E5ECF6\",\"gridcolor\":\"white\",\"gridwidth\":2,\"linecolor\":\"white\",\"showbackground\":true,\"ticks\":\"\",\"zerolinecolor\":\"white\"}},\"shapedefaults\":{\"line\":{\"color\":\"#2a3f5f\"}},\"ternary\":{\"aaxis\":{\"gridcolor\":\"white\",\"linecolor\":\"white\",\"ticks\":\"\"},\"baxis\":{\"gridcolor\":\"white\",\"linecolor\":\"white\",\"ticks\":\"\"},\"bgcolor\":\"#E5ECF6\",\"caxis\":{\"gridcolor\":\"white\",\"linecolor\":\"white\",\"ticks\":\"\"}},\"title\":{\"x\":0.05},\"xaxis\":{\"automargin\":true,\"gridcolor\":\"white\",\"linecolor\":\"white\",\"ticks\":\"\",\"title\":{\"standoff\":15},\"zerolinecolor\":\"white\",\"zerolinewidth\":2},\"yaxis\":{\"automargin\":true,\"gridcolor\":\"white\",\"linecolor\":\"white\",\"ticks\":\"\",\"title\":{\"standoff\":15},\"zerolinecolor\":\"white\",\"zerolinewidth\":2}}},\"xaxis\":{\"anchor\":\"y\",\"domain\":[0.0,1.0],\"title\":{\"text\":\"x\"}},\"yaxis\":{\"anchor\":\"x\",\"domain\":[0.0,1.0],\"title\":{\"text\":\"y\"}},\"legend\":{\"tracegroupgap\":0},\"margin\":{\"t\":60}},                        {\"responsive\": true}                    ).then(function(){\n",
              "                            \n",
              "var gd = document.getElementById('20df3d26-c83c-41d6-b700-8bcb734d889c');\n",
              "var x = new MutationObserver(function (mutations, observer) {{\n",
              "        var display = window.getComputedStyle(gd).display;\n",
              "        if (!display || display === 'none') {{\n",
              "            console.log([gd, 'removed!']);\n",
              "            Plotly.purge(gd);\n",
              "            observer.disconnect();\n",
              "        }}\n",
              "}});\n",
              "\n",
              "// Listen for the removal of the full notebook cells\n",
              "var notebookContainer = gd.closest('#notebook-container');\n",
              "if (notebookContainer) {{\n",
              "    x.observe(notebookContainer, {childList: true});\n",
              "}}\n",
              "\n",
              "// Listen for the clearing of the current output cell\n",
              "var outputEl = gd.closest('.output');\n",
              "if (outputEl) {{\n",
              "    x.observe(outputEl, {childList: true});\n",
              "}}\n",
              "\n",
              "                        })                };                            </script>        </div>\n",
              "</body>\n",
              "</html>"
            ]
          },
          "metadata": {}
        }
      ]
    },
    {
      "cell_type": "code",
      "source": [
        ""
      ],
      "metadata": {
        "id": "oLLFfDqmoerp"
      },
      "execution_count": null,
      "outputs": []
    }
  ],
  "metadata": {
    "colab": {
      "name": "0.2-chams-recommendation.ipynb",
      "provenance": [],
      "collapsed_sections": []
    },
    "interpreter": {
      "hash": "8d9e4539f263adb9784ce55915a8ca26a17d09b074ff33f33cd36e4a8a35d2ed"
    },
    "kernelspec": {
      "display_name": "Python 3.7.6 64-bit",
      "language": "python",
      "name": "python3"
    },
    "language_info": {
      "codemirror_mode": {
        "name": "ipython",
        "version": 3
      },
      "file_extension": ".py",
      "mimetype": "text/x-python",
      "name": "python",
      "nbconvert_exporter": "python",
      "pygments_lexer": "ipython3",
      "version": "3.7.6"
    }
  },
  "nbformat": 4,
  "nbformat_minor": 0
}